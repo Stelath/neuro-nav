{
 "cells": [
  {
   "cell_type": "code",
   "execution_count": 10,
   "metadata": {},
   "outputs": [],
   "source": [
    "import time\n",
    "import math\n",
    "import numpy as np\n",
    "import pandas as pd\n",
    "import matplotlib.pyplot as plt\n",
    "\n",
    "from brainflow.board_shim import BoardShim, BrainFlowInputParams, LogLevels, BoardIds\n",
    "from brainflow.data_filter import DataFilter, AggOperations, FilterTypes, WindowOperations, NoiseTypes\n",
    "\n",
    "from sklearn import metrics\n",
    "from sklearn.tree import DecisionTreeClassifier, plot_tree\n",
    "from sklearn.model_selection import GridSearchCV, train_test_split"
   ]
  },
  {
   "cell_type": "code",
   "execution_count": 239,
   "metadata": {},
   "outputs": [
    {
     "name": "stderr",
     "output_type": "stream",
     "text": [
      "[2023-01-12 13:19:41.745] [board_logger] [info] incoming json: {\n",
      "    \"board_id\": 23,\n",
      "    \"file\": \"\",\n",
      "    \"file_anc\": \"\",\n",
      "    \"file_aux\": \"\",\n",
      "    \"ip_address\": \"\",\n",
      "    \"ip_address_anc\": \"\",\n",
      "    \"ip_address_aux\": \"\",\n",
      "    \"ip_port\": 0,\n",
      "    \"ip_port_anc\": 0,\n",
      "    \"ip_port_aux\": 0,\n",
      "    \"ip_protocol\": 0,\n",
      "    \"mac_address\": \"C0:EE:40:84:DD:56\",\n",
      "    \"master_board\": -100,\n",
      "    \"other_info\": \"\",\n",
      "    \"serial_number\": \"58a99b0107e64cd40ea5e6607882cbe2\",\n",
      "    \"serial_port\": \"\",\n",
      "    \"timeout\": 5\n",
      "}\n",
      "[2023-01-12 13:19:41.745] [board_logger] [trace] Board object created 23\n",
      "[2023-01-12 13:19:41.745] [board_logger] [debug] Use IP port 9000\n"
     ]
    }
   ],
   "source": [
    "board_id = BoardIds.CROWN_BOARD.value\n",
    "params = BrainFlowInputParams()\n",
    "params.mac_address = \"C0:EE:40:84:DD:56\"\n",
    "params.serial_number = \"58a99b0107e64cd40ea5e6607882cbe2\"\n",
    "params.board_id = board_id\n",
    "params.timeout = 5\n",
    "BoardShim.enable_dev_board_logger()\n",
    "board = BoardShim(board_id, params)\n",
    "board.prepare_session()"
   ]
  },
  {
   "cell_type": "code",
   "execution_count": 240,
   "metadata": {},
   "outputs": [
    {
     "name": "stdout",
     "output_type": "stream",
     "text": [
      "Think Nothing\n",
      "Think Yes\n",
      "Think No\n"
     ]
    }
   ],
   "source": [
    "inputs = []\n",
    "outputs = []\n",
    "BoardShim.disable_board_logger()\n",
    "board.start_stream()\n",
    "for i in range(1):\n",
    "    print(\"Think Nothing\")\n",
    "    time.sleep(1)\n",
    "    board.get_board_data()\n",
    "    time.sleep(10)\n",
    "    nothing = board.get_board_data()[1:9]\n",
    "    \n",
    "    print(\"Think Left\")\n",
    "    time.sleep(1)\n",
    "    board.get_board_data()\n",
    "    time.sleep(10)\n",
    "    left = board.get_board_data()[1:9]\n",
    "\n",
    "    print(\"Think Right\")\n",
    "    time.sleep(1)\n",
    "    board.get_board_data()\n",
    "    time.sleep(10)\n",
    "    right = board.get_board_data()[1:9]\n",
    "    \n",
    "    inputs.append(nothing)\n",
    "    inputs.append(left)\n",
    "    inputs.append(right)\n",
    "    outputs.append(1)\n",
    "    outputs.append(0)\n",
    "    outputs.append(2)\n",
    "board.stop_stream()"
   ]
  },
  {
   "cell_type": "code",
   "execution_count": 157,
   "metadata": {},
   "outputs": [
    {
     "ename": "NameError",
     "evalue": "name 'outputs' is not defined",
     "output_type": "error",
     "traceback": [
      "\u001b[0;31m---------------------------------------------------------------------------\u001b[0m",
      "\u001b[0;31mNameError\u001b[0m                                 Traceback (most recent call last)",
      "Cell \u001b[0;32mIn[157], line 1\u001b[0m\n\u001b[0;32m----> 1\u001b[0m dataset \u001b[39m=\u001b[39m np\u001b[39m.\u001b[39marray([inputs, outputs], dtype\u001b[39m=\u001b[39m\u001b[39mobject\u001b[39m)\n\u001b[1;32m      2\u001b[0m np\u001b[39m.\u001b[39msave(\u001b[39m\"\u001b[39m\u001b[39mraw_data.npy\u001b[39m\u001b[39m\"\u001b[39m, dataset)\n",
      "\u001b[0;31mNameError\u001b[0m: name 'outputs' is not defined"
     ]
    }
   ],
   "source": [
    "dataset = np.array([inputs, outputs], dtype=object)\n",
    "np.save(\"raw_data.npy\", dataset)"
   ]
  },
  {
   "cell_type": "code",
   "execution_count": 158,
   "metadata": {},
   "outputs": [],
   "source": [
    "dataset = np.load(\"raw_data_5min.npy\", allow_pickle=True)"
   ]
  },
  {
   "cell_type": "code",
   "execution_count": 159,
   "metadata": {},
   "outputs": [],
   "source": [
    "# def downsample(data, hz):\n",
    "#     num_downsamples = int(math.log2(256 / hz))\n",
    "#     for i in range(1, num_downsamples + 1):\n",
    "#         data += np.roll(data, i, axis=2)\n",
    "#     data = (data / num_downsamples)[:,:,num_downsamples::num_downsamples]\n",
    "#     return data\n",
    "\n",
    "# def downsample(data, hz):\n",
    "#     # HZ should be a full number\n",
    "#     length = data.shape[1]\n",
    "#     excess = length % (256 / hz)\n",
    "    \n",
    "#     # Cut off excess data\n",
    "#     if excess != 0:\n",
    "#         data = data[:,excess:]\n",
    "#     length = data.shape[1]\n",
    "    \n",
    "#     length = data.shape[1]\n",
    "#     split = np.split(data, length // hz, axis=1)\n",
    "#     data = np.array([np.mean(section) for section in split]).flatten()\n",
    "#     return data\n",
    "\n",
    "def downsample(data, hz, channels=False):\n",
    "    if channels:\n",
    "        original_type = data.dtype\n",
    "        data = data.astype('float64')\n",
    "        \n",
    "        downsampled_data = np.empty((data.shape[0], int(256 / hz)))\n",
    "        for i, channel in enumerate(data):\n",
    "            downsampled_data[i] = DataFilter.perform_downsampling(channel, int(256 / hz), AggOperations.MEAN.value)\n",
    "        \n",
    "        return downsampled_data.astype(original_type)\n",
    "    \n",
    "    original_type = data.dtype\n",
    "    data = data.astype('float64')\n",
    "    return DataFilter.perform_downsampling(data, int(256 / hz), AggOperations.MEAN.value).astype(original_type)\n",
    "\n",
    "def filter_data(data):\n",
    "    sr = BoardShim.get_sampling_rate(BoardIds.CROWN_BOARD.value)\n",
    "\n",
    "    DataFilter.perform_bandpass(data, sr, 5.0, 50.0, 4,FilterTypes.BUTTERWORTH.value, 0)\n",
    "    DataFilter.remove_environmental_noise(data, sr, NoiseTypes.SIXTY.value) # Americas wires run at 60Hz"
   ]
  },
  {
   "cell_type": "code",
   "execution_count": 160,
   "metadata": {},
   "outputs": [],
   "source": [
    "def format_dataset(dataset):\n",
    "    inputs = []\n",
    "    targets = []\n",
    "    sr = BoardShim.get_sampling_rate(BoardIds.CROWN_BOARD.value)\n",
    "    for i in range(len(dataset[0])):\n",
    "        for j in range(len(dataset[0][i])):\n",
    "            filter_data(dataset[0][i][j])\n",
    "        \n",
    "        data = np.array(dataset[0][i])\n",
    "        data = np.mean(data, axis=0)\n",
    "        \n",
    "        delta = downsample(data, 2)\n",
    "        theta = downsample(data, 5)\n",
    "        alpha_low = downsample(data, 8)\n",
    "        alpha_high = downsample(data, 11)\n",
    "        beta_low = downsample(data, 15)\n",
    "        beta_high = downsample(data, 24)\n",
    "        gamma_low = downsample(data, 35)\n",
    "        gamma_mid = downsample(data, 45)\n",
    "        gamma_high = downsample(data, 55)\n",
    "        \n",
    "        # Add to inputs and outputs\n",
    "        for j in range(len(delta)):\n",
    "            # Raw Samples Passed\n",
    "            rsp = j * 2\n",
    "            brain_waves = np.array([delta[j], theta[rsp//5], alpha_low[rsp//8], alpha_high[rsp//11], beta_low[rsp//15], beta_high[rsp//24], gamma_low[rsp//35], gamma_mid[rsp//45], gamma_high[rsp//55]]).flatten()\n",
    "            \n",
    "            inputs.append(brain_waves)\n",
    "            targets.append(dataset[1][i])\n",
    "\n",
    "    targets = np.array(targets)\n",
    "    inputs = np.array(inputs)\n",
    "    \n",
    "    return inputs, targets"
   ]
  },
  {
   "cell_type": "code",
   "execution_count": 161,
   "metadata": {},
   "outputs": [
    {
     "name": "stdout",
     "output_type": "stream",
     "text": [
      "(518, 9)\n",
      "(518,)\n"
     ]
    }
   ],
   "source": [
    "inputs, targets = format_dataset(dataset)\n",
    "print(inputs.shape)\n",
    "print(targets.shape)"
   ]
  },
  {
   "cell_type": "code",
   "execution_count": 162,
   "metadata": {},
   "outputs": [],
   "source": [
    "inputs_train, inputs_valid, targets_train, targets_valid = train_test_split(inputs, targets, test_size=0.3, random_state=42)\n",
    "test_dataset = np.load(\"raw_data_test.npy\", allow_pickle=True)\n",
    "inputs_test, targets_test = format_dataset(test_dataset)\n",
    "\n",
    "inputs_train = inputs_train.reshape(inputs_train.shape[0], -1)\n",
    "inputs_valid = inputs_valid.reshape(inputs_valid.shape[0], -1)\n",
    "\n",
    "param_grid = {\n",
    "    \"max_depth\": [3,5,10,15,20,None],\n",
    "    \"min_samples_split\": [2,5,7,10],\n",
    "    \"min_samples_leaf\": [1,2,5]\n",
    "}\n",
    "\n",
    "model = DecisionTreeClassifier(random_state=42)\n",
    "# model = model.fit(inputs_train, targets_train)\n",
    "\n",
    "grid_cv = GridSearchCV(model, param_grid, n_jobs=-1).fit(inputs_train, targets_train)\n",
    "model = grid_cv"
   ]
  },
  {
   "cell_type": "code",
   "execution_count": 163,
   "metadata": {},
   "outputs": [],
   "source": [
    "plt.style.use('seaborn-v0_8-white')"
   ]
  },
  {
   "cell_type": "code",
   "execution_count": 164,
   "metadata": {},
   "outputs": [
    {
     "name": "stdout",
     "output_type": "stream",
     "text": [
      "Validation Accuracy: 1.0\n",
      "Test Accuracy: 0.3220338983050847\n"
     ]
    },
    {
     "data": {
      "image/png": "[encoded data removed]",
      "text/plain": [
       "<Figure size 1200x800 with 3 Axes>"
      ]
     },
     "metadata": {},
     "output_type": "display_data"
    }
   ],
   "source": [
    "vaccuracy = metrics.accuracy_score(targets_valid, model.predict(inputs_valid))\n",
    "print(f\"Validation Accuracy: {vaccuracy}\")\n",
    "\n",
    "taccuracy = metrics.accuracy_score(targets_test, model.predict(inputs_test))\n",
    "print(f\"Test Accuracy: {taccuracy}\")\n",
    "\n",
    "\n",
    "\n",
    "f, axes = plt.subplots(1, 2)\n",
    "\n",
    "vcm = metrics.confusion_matrix(targets_valid, model.predict(inputs_valid))\n",
    "vdisp = metrics.ConfusionMatrixDisplay(confusion_matrix=vcm, display_labels=['Left', 'Nothing', 'Right'])\n",
    "vdisp.plot(ax=axes[0], cmap=plt.cm.Oranges)\n",
    "vdisp.im_.colorbar.remove()\n",
    "\n",
    "plt.subplot(1, 2, 2)\n",
    "tcm = metrics.confusion_matrix(targets_test, model.predict(inputs_test))\n",
    "tdisp = metrics.ConfusionMatrixDisplay(confusion_matrix=tcm, display_labels=['Left', 'Nothing', 'Right'])\n",
    "tdisp.plot(ax=axes[1], cmap=plt.cm.Oranges)\n",
    "tdisp.im_.colorbar.remove()\n",
    "\n",
    "plt.subplots_adjust(wspace=0.75, hspace=0.1)\n",
    "f.colorbar(tdisp.im_, ax=axes, shrink=0.5)\n",
    "fig = plt.gcf()\n",
    "fig.set_size_inches(12, 8)\n",
    "\n",
    "plt.show()"
   ]
  },
  {
   "cell_type": "code",
   "execution_count": 156,
   "metadata": {},
   "outputs": [
    {
     "data": {
      "text/plain": [
       "[Text(0.5043103448275862, 0.95, 'X[8] <= -0.584\\ngini = 0.666\\nsamples = 362\\nvalue = [123, 123, 116]'),\n",
       " Text(0.21551724137931033, 0.85, 'X[7] <= -15.324\\ngini = 0.627\\nsamples = 235\\nvalue = [55, 64, 116]'),\n",
       " Text(0.1810344827586207, 0.75, 'gini = 0.0\\nsamples = 24\\nvalue = [0, 24, 0]'),\n",
       " Text(0.25, 0.75, 'X[8] <= -4.408\\ngini = 0.594\\nsamples = 211\\nvalue = [55, 40, 116]'),\n",
       " Text(0.13793103448275862, 0.65, 'X[5] <= -100.98\\ngini = 0.44\\nsamples = 46\\nvalue = [31, 0, 15]'),\n",
       " Text(0.10344827586206896, 0.55, 'X[5] <= -209.31\\ngini = 0.202\\nsamples = 35\\nvalue = [31, 0, 4]'),\n",
       " Text(0.06896551724137931, 0.45, 'X[5] <= -310.741\\ngini = 0.391\\nsamples = 15\\nvalue = [11, 0, 4]'),\n",
       " Text(0.034482758620689655, 0.35, 'gini = 0.0\\nsamples = 11\\nvalue = [11, 0, 0]'),\n",
       " Text(0.10344827586206896, 0.35, 'gini = 0.0\\nsamples = 4\\nvalue = [0, 0, 4]'),\n",
       " Text(0.13793103448275862, 0.45, 'gini = 0.0\\nsamples = 20\\nvalue = [20, 0, 0]'),\n",
       " Text(0.1724137931034483, 0.55, 'gini = 0.0\\nsamples = 11\\nvalue = [0, 0, 11]'),\n",
       " Text(0.3620689655172414, 0.65, 'X[7] <= -8.068\\ngini = 0.545\\nsamples = 165\\nvalue = [24, 40, 101]'),\n",
       " Text(0.2413793103448276, 0.55, 'X[8] <= -3.496\\ngini = 0.288\\nsamples = 86\\nvalue = [0, 15, 71]'),\n",
       " Text(0.20689655172413793, 0.45, 'gini = 0.0\\nsamples = 41\\nvalue = [0, 0, 41]'),\n",
       " Text(0.27586206896551724, 0.45, 'X[7] <= -9.851\\ngini = 0.444\\nsamples = 45\\nvalue = [0, 15, 30]'),\n",
       " Text(0.2413793103448276, 0.35, 'gini = 0.0\\nsamples = 15\\nvalue = [0, 15, 0]'),\n",
       " Text(0.3103448275862069, 0.35, 'gini = 0.0\\nsamples = 30\\nvalue = [0, 0, 30]'),\n",
       " Text(0.4827586206896552, 0.55, 'X[6] <= -27.646\\ngini = 0.663\\nsamples = 79\\nvalue = [24, 25, 30]'),\n",
       " Text(0.41379310344827586, 0.45, 'X[7] <= -7.165\\ngini = 0.415\\nsamples = 34\\nvalue = [10, 24, 0]'),\n",
       " Text(0.3793103448275862, 0.35, 'gini = 0.0\\nsamples = 10\\nvalue = [10, 0, 0]'),\n",
       " Text(0.4482758620689655, 0.35, 'gini = 0.0\\nsamples = 24\\nvalue = [0, 24, 0]'),\n",
       " Text(0.5517241379310345, 0.45, 'X[5] <= -52.552\\ngini = 0.458\\nsamples = 45\\nvalue = [14, 1, 30]'),\n",
       " Text(0.5172413793103449, 0.35, 'X[3] <= 313.796\\ngini = 0.525\\nsamples = 25\\nvalue = [14, 1, 10]'),\n",
       " Text(0.4827586206896552, 0.25, 'X[3] <= -239.196\\ngini = 0.364\\nsamples = 18\\nvalue = [14, 1, 3]'),\n",
       " Text(0.4482758620689655, 0.15, 'X[3] <= -250.528\\ngini = 0.375\\nsamples = 4\\nvalue = [0, 1, 3]'),\n",
       " Text(0.41379310344827586, 0.05, 'gini = 0.0\\nsamples = 3\\nvalue = [0, 0, 3]'),\n",
       " Text(0.4827586206896552, 0.05, 'gini = 0.0\\nsamples = 1\\nvalue = [0, 1, 0]'),\n",
       " Text(0.5172413793103449, 0.15, 'gini = 0.0\\nsamples = 14\\nvalue = [14, 0, 0]'),\n",
       " Text(0.5517241379310345, 0.25, 'gini = 0.0\\nsamples = 7\\nvalue = [0, 0, 7]'),\n",
       " Text(0.5862068965517241, 0.35, 'gini = 0.0\\nsamples = 20\\nvalue = [0, 0, 20]'),\n",
       " Text(0.7931034482758621, 0.85, 'X[8] <= 0.28\\ngini = 0.497\\nsamples = 127\\nvalue = [68, 59, 0]'),\n",
       " Text(0.7241379310344828, 0.75, 'X[5] <= -73.425\\ngini = 0.366\\nsamples = 58\\nvalue = [14, 44, 0]'),\n",
       " Text(0.6896551724137931, 0.65, 'X[7] <= -0.707\\ngini = 0.183\\nsamples = 49\\nvalue = [5, 44, 0]'),\n",
       " Text(0.6551724137931034, 0.55, 'X[7] <= -1.876\\ngini = 0.401\\nsamples = 18\\nvalue = [5, 13, 0]'),\n",
       " Text(0.6206896551724138, 0.45, 'gini = 0.0\\nsamples = 13\\nvalue = [0, 13, 0]'),\n",
       " Text(0.6896551724137931, 0.45, 'gini = 0.0\\nsamples = 5\\nvalue = [5, 0, 0]'),\n",
       " Text(0.7241379310344828, 0.55, 'gini = 0.0\\nsamples = 31\\nvalue = [0, 31, 0]'),\n",
       " Text(0.7586206896551724, 0.65, 'gini = 0.0\\nsamples = 9\\nvalue = [9, 0, 0]'),\n",
       " Text(0.8620689655172413, 0.75, 'X[3] <= 385.899\\ngini = 0.34\\nsamples = 69\\nvalue = [54, 15, 0]'),\n",
       " Text(0.8275862068965517, 0.65, 'X[4] <= -681.236\\ngini = 0.281\\nsamples = 65\\nvalue = [54, 11, 0]'),\n",
       " Text(0.7931034482758621, 0.55, 'gini = 0.0\\nsamples = 3\\nvalue = [0, 3, 0]'),\n",
       " Text(0.8620689655172413, 0.55, 'X[1] <= -110.312\\ngini = 0.225\\nsamples = 62\\nvalue = [54, 8, 0]'),\n",
       " Text(0.8275862068965517, 0.45, 'gini = 0.0\\nsamples = 3\\nvalue = [0, 3, 0]'),\n",
       " Text(0.896551724137931, 0.45, 'X[1] <= 158.718\\ngini = 0.155\\nsamples = 59\\nvalue = [54, 5, 0]'),\n",
       " Text(0.8620689655172413, 0.35, 'X[2] <= -144.57\\ngini = 0.1\\nsamples = 57\\nvalue = [54, 3, 0]'),\n",
       " Text(0.8275862068965517, 0.25, 'gini = 0.0\\nsamples = 2\\nvalue = [0, 2, 0]'),\n",
       " Text(0.896551724137931, 0.25, 'X[4] <= 378.758\\ngini = 0.036\\nsamples = 55\\nvalue = [54, 1, 0]'),\n",
       " Text(0.8620689655172413, 0.15, 'gini = 0.0\\nsamples = 45\\nvalue = [45, 0, 0]'),\n",
       " Text(0.9310344827586207, 0.15, 'X[4] <= 397.731\\ngini = 0.18\\nsamples = 10\\nvalue = [9, 1, 0]'),\n",
       " Text(0.896551724137931, 0.05, 'gini = 0.0\\nsamples = 1\\nvalue = [0, 1, 0]'),\n",
       " Text(0.9655172413793104, 0.05, 'gini = 0.0\\nsamples = 9\\nvalue = [9, 0, 0]'),\n",
       " Text(0.9310344827586207, 0.35, 'gini = 0.0\\nsamples = 2\\nvalue = [0, 2, 0]'),\n",
       " Text(0.896551724137931, 0.65, 'gini = 0.0\\nsamples = 4\\nvalue = [0, 4, 0]')]"
      ]
     },
     "execution_count": 156,
     "metadata": {},
     "output_type": "execute_result"
    },
    {
     "data": {
      "image/png": "[encoded data removed]",
      "text/plain": [
       "<Figure size 640x480 with 1 Axes>"
      ]
     },
     "metadata": {},
     "output_type": "display_data"
    }
   ],
   "source": [
    "plot_tree(model)"
   ]
  },
  {
   "cell_type": "code",
   "execution_count": 261,
   "metadata": {},
   "outputs": [],
   "source": [
    "board.stop_stream()"
   ]
  },
  {
   "cell_type": "code",
   "execution_count": null,
   "metadata": {},
   "outputs": [],
   "source": [
    "board.start_stream()\n",
    "BoardShim.disable_board_logger()\n",
    "\n",
    "sample_size = 512\n",
    "start_time = time.time()\n",
    "last_read = start_time\n",
    "time.sleep(3)\n",
    "\n",
    "realtime_raw_data = board.get_board_data()[1:9]\n",
    "\n",
    "while start_time + 30 > time.time():\n",
    "    realtime_raw_data = np.concatenate((realtime_raw_data, board.get_board_data()[1:9]), axis=1)[:,-sample_size:]\n",
    "    \n",
    "    realtime_data = np.mean(realtime_raw_data, axis=0)\n",
    "    \n",
    "    sr = 256\n",
    "    \n",
    "    delta = downsample(realtime_data, 2)[-1]\n",
    "    theta = downsample(realtime_data, 5)[-1]\n",
    "    alpha_low = downsample(realtime_data, 8)[-1]\n",
    "    alpha_high = downsample(realtime_data, 11)[-1]\n",
    "    beta_low = downsample(realtime_data, 15)[-1]\n",
    "    beta_high = downsample(realtime_data, 24)[-1]\n",
    "    gamma_low = downsample(realtime_data, 35)[-1]\n",
    "    gamma_mid = downsample(realtime_data, 45)[-1]\n",
    "    gamma_high = downsample(realtime_data, 55)[-1]\n",
    "    \n",
    "    \n",
    "    if time.time() > last_read + 0.5:\n",
    "        predictions = model.predict(np.array([delta, theta, alpha_low, alpha_high, beta_low, beta_high, gamma_low, gamma_mid, gamma_high]).reshape(1, -1))\n",
    "        last_read = time.time()\n",
    "        print(['Left', 'Nothing', 'Right'][predictions[0]])\n",
    "    \n",
    "    time.sleep(0.1)\n",
    "\n",
    "board.stop_stream()"
   ]
  },
  {
   "cell_type": "code",
   "execution_count": 237,
   "metadata": {},
   "outputs": [],
   "source": [
    "board.release_session()"
   ]
  }
 ],
 "metadata": {
  "kernelspec": {
   "display_name": "neuronav",
   "language": "python",
   "name": "python3"
  },
  "language_info": {
   "codemirror_mode": {
    "name": "ipython",
    "version": 3
   },
   "file_extension": ".py",
   "mimetype": "text/x-python",
   "name": "python",
   "nbconvert_exporter": "python",
   "pygments_lexer": "ipython3",
   "version": "3.8.15"
  },
  "orig_nbformat": 4,
  "vscode": {
   "interpreter": {
    "hash": "6d5aef1c97cce0d8b1b8135a3f65fe22a8049f381bd703d7f19d42d052a45954"
   }
  }
 },
 "nbformat": 4,
 "nbformat_minor": 2
}

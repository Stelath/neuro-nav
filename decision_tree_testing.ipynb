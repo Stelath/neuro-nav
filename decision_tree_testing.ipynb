{
 "cells": [
  {
   "cell_type": "code",
   "execution_count": 1,
   "metadata": {},
   "outputs": [],
   "source": [
    "import time\n",
    "import math\n",
    "import numpy as np\n",
    "import pandas as pd\n",
    "import matplotlib.pyplot as plt\n",
    "\n",
    "from brainflow.board_shim import BoardShim, BrainFlowInputParams, LogLevels, BoardIds\n",
    "from brainflow.data_filter import DataFilter, AggOperations, FilterTypes, WindowOperations, NoiseTypes\n",
    "\n",
    "from sklearn import metrics\n",
    "from sklearn.tree import DecisionTreeClassifier, plot_tree\n",
    "from sklearn.model_selection import GridSearchCV, train_test_split\n",
    "\n",
    "import torch"
   ]
  },
  {
   "cell_type": "code",
   "execution_count": 166,
   "metadata": {},
   "outputs": [
    {
     "name": "stderr",
     "output_type": "stream",
     "text": [
      "[2023-01-12 20:14:40.029] [board_logger] [info] incoming json: {\n",
      "    \"board_id\": 23,\n",
      "    \"file\": \"\",\n",
      "    \"file_anc\": \"\",\n",
      "    \"file_aux\": \"\",\n",
      "    \"ip_address\": \"\",\n",
      "    \"ip_address_anc\": \"\",\n",
      "    \"ip_address_aux\": \"\",\n",
      "    \"ip_port\": 0,\n",
      "    \"ip_port_anc\": 0,\n",
      "    \"ip_port_aux\": 0,\n",
      "    \"ip_protocol\": 0,\n",
      "    \"mac_address\": \"C0:EE:40:84:DD:56\",\n",
      "    \"master_board\": -100,\n",
      "    \"other_info\": \"\",\n",
      "    \"serial_number\": \"58a99b0107e64cd40ea5e6607882cbe2\",\n",
      "    \"serial_port\": \"\",\n",
      "    \"timeout\": 5\n",
      "}\n",
      "[2023-01-12 20:14:40.029] [board_logger] [trace] Board object created 23\n",
      "[2023-01-12 20:14:40.029] [board_logger] [debug] Use IP port 9000\n",
      "[2023-01-12 20:14:40.030] [board_logger] [error] failed to init socket: 3\n"
     ]
    },
    {
     "ename": "BrainFlowError",
     "evalue": "GENERAL_ERROR:17 unable to prepare streaming session",
     "output_type": "error",
     "traceback": [
      "\u001b[0;31m---------------------------------------------------------------------------\u001b[0m",
      "\u001b[0;31mBrainFlowError\u001b[0m                            Traceback (most recent call last)",
      "Cell \u001b[0;32mIn[166], line 9\u001b[0m\n\u001b[1;32m      7\u001b[0m BoardShim\u001b[39m.\u001b[39menable_dev_board_logger()\n\u001b[1;32m      8\u001b[0m board \u001b[39m=\u001b[39m BoardShim(board_id, params)\n\u001b[0;32m----> 9\u001b[0m board\u001b[39m.\u001b[39;49mprepare_session()\n",
      "File \u001b[0;32m~/miniconda3/envs/neuronav/lib/python3.8/site-packages/brainflow/board_shim.py:1144\u001b[0m, in \u001b[0;36mBoardShim.prepare_session\u001b[0;34m(self)\u001b[0m\n\u001b[1;32m   1142\u001b[0m res \u001b[39m=\u001b[39m BoardControllerDLL\u001b[39m.\u001b[39mget_instance()\u001b[39m.\u001b[39mprepare_session(\u001b[39mself\u001b[39m\u001b[39m.\u001b[39mboard_id, \u001b[39mself\u001b[39m\u001b[39m.\u001b[39minput_json)\n\u001b[1;32m   1143\u001b[0m \u001b[39mif\u001b[39;00m res \u001b[39m!=\u001b[39m BrainFlowExitCodes\u001b[39m.\u001b[39mSTATUS_OK\u001b[39m.\u001b[39mvalue:\n\u001b[0;32m-> 1144\u001b[0m     \u001b[39mraise\u001b[39;00m BrainFlowError(\u001b[39m'\u001b[39m\u001b[39munable to prepare streaming session\u001b[39m\u001b[39m'\u001b[39m, res)\n",
      "\u001b[0;31mBrainFlowError\u001b[0m: GENERAL_ERROR:17 unable to prepare streaming session"
     ]
    }
   ],
   "source": [
    "board_id = BoardIds.CROWN_BOARD.value\n",
    "params = BrainFlowInputParams()\n",
    "params.mac_address = \"C0:EE:40:84:DD:56\"\n",
    "params.serial_number = \"58a99b0107e64cd40ea5e6607882cbe2\"\n",
    "params.board_id = board_id\n",
    "params.timeout = 5\n",
    "BoardShim.enable_dev_board_logger()\n",
    "board = BoardShim(board_id, params)\n",
    "board.prepare_session()"
   ]
  },
  {
   "cell_type": "code",
   "execution_count": null,
   "metadata": {},
   "outputs": [
    {
     "name": "stdout",
     "output_type": "stream",
     "text": [
      "Think Nothing\n",
      "Think Yes\n",
      "Think No\n"
     ]
    }
   ],
   "source": [
    "inputs = []\n",
    "outputs = []\n",
    "BoardShim.disable_board_logger()\n",
    "board.start_stream()\n",
    "for i in range(1):\n",
    "    print(\"Think Nothing\")\n",
    "    time.sleep(1)\n",
    "    board.get_board_data()\n",
    "    time.sleep(10)\n",
    "    nothing = board.get_board_data()[1:9]\n",
    "    \n",
    "    print(\"Think Left\")\n",
    "    time.sleep(1)\n",
    "    board.get_board_data()\n",
    "    time.sleep(10)\n",
    "    left = board.get_board_data()[1:9]\n",
    "\n",
    "    print(\"Think Right\")\n",
    "    time.sleep(1)\n",
    "    board.get_board_data()\n",
    "    time.sleep(10)\n",
    "    right = board.get_board_data()[1:9]\n",
    "    \n",
    "    inputs.append(nothing)\n",
    "    inputs.append(left)\n",
    "    inputs.append(right)\n",
    "    outputs.append(1)\n",
    "    outputs.append(0)\n",
    "    outputs.append(2)\n",
    "board.stop_stream()"
   ]
  },
  {
   "cell_type": "code",
   "execution_count": null,
   "metadata": {},
   "outputs": [
    {
     "ename": "NameError",
     "evalue": "name 'outputs' is not defined",
     "output_type": "error",
     "traceback": [
      "\u001b[0;31m---------------------------------------------------------------------------\u001b[0m",
      "\u001b[0;31mNameError\u001b[0m                                 Traceback (most recent call last)",
      "Cell \u001b[0;32mIn[157], line 1\u001b[0m\n\u001b[0;32m----> 1\u001b[0m dataset \u001b[39m=\u001b[39m np\u001b[39m.\u001b[39marray([inputs, outputs], dtype\u001b[39m=\u001b[39m\u001b[39mobject\u001b[39m)\n\u001b[1;32m      2\u001b[0m np\u001b[39m.\u001b[39msave(\u001b[39m\"\u001b[39m\u001b[39mraw_data.npy\u001b[39m\u001b[39m\"\u001b[39m, dataset)\n",
      "\u001b[0;31mNameError\u001b[0m: name 'outputs' is not defined"
     ]
    }
   ],
   "source": [
    "dataset = np.array([inputs, outputs], dtype=object)\n",
    "np.save(\"raw_data.npy\", dataset)"
   ]
  },
  {
   "cell_type": "code",
   "execution_count": 191,
   "metadata": {},
   "outputs": [],
   "source": [
    "dataset = np.load(\"raw_data_5min.npy\", allow_pickle=True)"
   ]
  },
  {
   "cell_type": "code",
   "execution_count": 3,
   "metadata": {},
   "outputs": [],
   "source": [
    "# def downsample(data, hz):\n",
    "#     num_downsamples = int(math.log2(256 / hz))\n",
    "#     for i in range(1, num_downsamples + 1):\n",
    "#         data += np.roll(data, i, axis=2)\n",
    "#     data = (data / num_downsamples)[:,:,num_downsamples::num_downsamples]\n",
    "#     return data\n",
    "\n",
    "# def downsample(data, hz):\n",
    "#     # HZ should be a full number\n",
    "#     length = data.shape[1]\n",
    "#     excess = length % (256 / hz)\n",
    "    \n",
    "#     # Cut off excess data\n",
    "#     if excess != 0:\n",
    "#         data = data[:,excess:]\n",
    "#     length = data.shape[1]\n",
    "    \n",
    "#     length = data.shape[1]\n",
    "#     split = np.split(data, length // hz, axis=1)\n",
    "#     data = np.array([np.mean(section) for section in split]).flatten()\n",
    "#     return data\n",
    "\n",
    "def downsample(data, hz, channels=False):\n",
    "    if channels:\n",
    "        original_type = data.dtype\n",
    "        data = data.astype('float64')\n",
    "        \n",
    "        downsampled_data = np.empty((data.shape[0], int(256 / hz)))\n",
    "        for i, channel in enumerate(data):\n",
    "            downsampled_data[i] = DataFilter.perform_downsampling(channel, int(256 / hz), AggOperations.MEAN.value)\n",
    "        \n",
    "        return downsampled_data.astype(original_type)\n",
    "    \n",
    "    original_type = data.dtype\n",
    "    data = data.astype('float64')\n",
    "    return DataFilter.perform_downsampling(data, int(256 / hz), AggOperations.MEAN.value).astype(original_type)\n",
    "\n",
    "def filter_data(data):\n",
    "    sr = BoardShim.get_sampling_rate(BoardIds.CROWN_BOARD.value)\n",
    "\n",
    "    DataFilter.perform_bandpass(data, sr, 5.0, 50.0, 4,FilterTypes.BUTTERWORTH.value, 0)\n",
    "    DataFilter.remove_environmental_noise(data, sr, NoiseTypes.SIXTY.value) # Americas wires run at 60Hz"
   ]
  },
  {
   "cell_type": "code",
   "execution_count": 4,
   "metadata": {},
   "outputs": [],
   "source": [
    "def format_dataset(dataset):\n",
    "    inputs = []\n",
    "    targets = []\n",
    "    sr = BoardShim.get_sampling_rate(BoardIds.CROWN_BOARD.value)\n",
    "    for i in range(len(dataset[0])):\n",
    "        for j in range(len(dataset[0][i])):\n",
    "            filter_data(dataset[0][i][j])\n",
    "        \n",
    "        data = np.array(dataset[0][i])\n",
    "        data = np.mean(data, axis=0)\n",
    "        \n",
    "        delta = downsample(data, 2)\n",
    "        theta = downsample(data, 5)\n",
    "        alpha_low = downsample(data, 8)\n",
    "        alpha_high = downsample(data, 11)\n",
    "        beta_low = downsample(data, 15)\n",
    "        beta_high = downsample(data, 24)\n",
    "        gamma_low = downsample(data, 35)\n",
    "        gamma_mid = downsample(data, 45)\n",
    "        gamma_high = downsample(data, 55)\n",
    "        \n",
    "        # Add to inputs and outputs\n",
    "        for j in range(len(delta)):\n",
    "            # Raw Samples Passed\n",
    "            rsp = j * 2\n",
    "            brain_waves = np.array([delta[j], theta[rsp//5], alpha_low[rsp//8], alpha_high[rsp//11], beta_low[rsp//15], beta_high[rsp//24], gamma_low[rsp//35], gamma_mid[rsp//45], gamma_high[rsp//55]]).flatten()\n",
    "            \n",
    "            inputs.append(brain_waves)\n",
    "            targets.append(dataset[1][i])\n",
    "\n",
    "    targets = np.array(targets)\n",
    "    inputs = np.array(inputs)\n",
    "    \n",
    "    return inputs, targets"
   ]
  },
  {
   "cell_type": "code",
   "execution_count": null,
   "metadata": {},
   "outputs": [
    {
     "name": "stdout",
     "output_type": "stream",
     "text": [
      "(518, 9)\n",
      "(518,)\n"
     ]
    }
   ],
   "source": [
    "inputs, targets = format_dataset(dataset)\n",
    "print(inputs.shape)\n",
    "print(targets.shape)"
   ]
  },
  {
   "cell_type": "code",
   "execution_count": 17,
   "metadata": {},
   "outputs": [
    {
     "name": "stderr",
     "output_type": "stream",
     "text": [
      "/home/stelath/GitHub/neuro-nav/bci_dataset.py:40: ComplexWarning: Casting complex values to real discards the imaginary part\n",
      "  inp[k] = DataFilter.perform_fft(channel[: hz // 2], WindowOperations.NO_WINDOW.value)[:hz // 4]\n"
     ]
    }
   ],
   "source": [
    "from bci_dataset import BCIDataset\n",
    "\n",
    "train_dataset = BCIDataset('raw_data_5min.npy')[:]\n",
    "inputs = train_dataset['inputs'][:, :, 16:]\n",
    "inputs = inputs.flatten(1, 2)\n",
    "targets = train_dataset['targets']\n",
    "targets = torch.argmax(targets, dim=1)\n",
    "\n",
    "test_dataset = BCIDataset('raw_data_test.npy')[:]\n",
    "inputs_test = test_dataset['inputs'][:, :, 16:]\n",
    "inputs_test = inputs_test.flatten(1, 2)\n",
    "targets_test = test_dataset['targets']"
   ]
  },
  {
   "cell_type": "code",
   "execution_count": 18,
   "metadata": {},
   "outputs": [],
   "source": [
    "inputs_train, inputs_valid, targets_train, targets_valid = train_test_split(inputs, targets, test_size=0.3, random_state=42)\n",
    "# inputs_test, targets_test = format_dataset(test_dataset)\n",
    "\n",
    "targets_test = torch.argmax(targets_test, dim=1)\n",
    "\n",
    "param_grid = {\n",
    "    \"max_depth\": [3,5,10,15,20,None],\n",
    "    \"min_samples_split\": [2,5,7,10],\n",
    "    \"min_samples_leaf\": [1,2,5]\n",
    "}\n",
    "\n",
    "model = DecisionTreeClassifier(random_state=42)\n",
    "model = model.fit(inputs_train, targets_train)\n",
    "\n",
    "grid_cv = GridSearchCV(model, param_grid, n_jobs=-1).fit(inputs_train, targets_train)\n",
    "model = grid_cv"
   ]
  },
  {
   "cell_type": "code",
   "execution_count": 9,
   "metadata": {},
   "outputs": [],
   "source": [
    "plt.style.use('seaborn-v0_8-white')"
   ]
  },
  {
   "cell_type": "code",
   "execution_count": 19,
   "metadata": {},
   "outputs": [
    {
     "name": "stdout",
     "output_type": "stream",
     "text": [
      "Validation Accuracy: 0.442819647544057\n",
      "Test Accuracy: 0.341710182767624\n"
     ]
    },
    {
     "data": {
      "image/png": "[encoded data removed]",
      "text/plain": [
       "<Figure size 1200x800 with 3 Axes>"
      ]
     },
     "metadata": {},
     "output_type": "display_data"
    }
   ],
   "source": [
    "vaccuracy = metrics.accuracy_score(targets_valid, model.predict(inputs_valid))\n",
    "print(f\"Validation Accuracy: {vaccuracy}\")\n",
    "\n",
    "taccuracy = metrics.accuracy_score(targets_test, model.predict(inputs_test))\n",
    "print(f\"Test Accuracy: {taccuracy}\")\n",
    "\n",
    "\n",
    "\n",
    "f, axes = plt.subplots(1, 2)\n",
    "\n",
    "vcm = metrics.confusion_matrix(targets_valid, model.predict(inputs_valid), normalize='true')\n",
    "vdisp = metrics.ConfusionMatrixDisplay(confusion_matrix=vcm, display_labels=['Left', 'Nothing', 'Right'])\n",
    "vdisp.plot(ax=axes[0], cmap=plt.cm.Oranges)\n",
    "vdisp.im_.colorbar.remove()\n",
    "\n",
    "plt.subplot(1, 2, 2)\n",
    "tcm = metrics.confusion_matrix(targets_test, model.predict(inputs_test), normalize='true')\n",
    "tdisp = metrics.ConfusionMatrixDisplay(confusion_matrix=tcm, display_labels=['Left', 'Nothing', 'Right'])\n",
    "tdisp.plot(ax=axes[1], cmap=plt.cm.Oranges)\n",
    "tdisp.im_.colorbar.remove()\n",
    "\n",
    "plt.subplots_adjust(wspace=0.75, hspace=0.1)\n",
    "f.colorbar(tdisp.im_, ax=axes, shrink=0.5)\n",
    "fig = plt.gcf()\n",
    "fig.set_size_inches(12, 8)\n",
    "\n",
    "plt.show()"
   ]
  },
  {
   "cell_type": "code",
   "execution_count": 174,
   "metadata": {},
   "outputs": [
    {
     "data": {
      "text/plain": [
       "[Text(0.32432432432432434, 0.9545454545454546, 'X[6] <= -1919.028\\ngini = 0.666\\nsamples = 362\\nvalue = [123, 123, 116]'),\n",
       " Text(0.21621621621621623, 0.8636363636363636, 'X[6] <= -2054.757\\ngini = 0.479\\nsamples = 103\\nvalue = [62, 41, 0]'),\n",
       " Text(0.16216216216216217, 0.7727272727272727, 'X[6] <= -2143.744\\ngini = 0.466\\nsamples = 65\\nvalue = [24, 41, 0]'),\n",
       " Text(0.10810810810810811, 0.6818181818181818, 'X[8] <= -353.647\\ngini = 0.456\\nsamples = 37\\nvalue = [24, 13, 0]'),\n",
       " Text(0.05405405405405406, 0.5909090909090909, 'gini = 0.0\\nsamples = 13\\nvalue = [0, 13, 0]'),\n",
       " Text(0.16216216216216217, 0.5909090909090909, 'gini = 0.0\\nsamples = 24\\nvalue = [24, 0, 0]'),\n",
       " Text(0.21621621621621623, 0.6818181818181818, 'gini = 0.0\\nsamples = 28\\nvalue = [0, 28, 0]'),\n",
       " Text(0.2702702702702703, 0.7727272727272727, 'gini = 0.0\\nsamples = 38\\nvalue = [38, 0, 0]'),\n",
       " Text(0.43243243243243246, 0.8636363636363636, 'X[6] <= -1741.216\\ngini = 0.644\\nsamples = 259\\nvalue = [61, 82, 116]'),\n",
       " Text(0.3783783783783784, 0.7727272727272727, 'gini = 0.0\\nsamples = 40\\nvalue = [0, 0, 40]'),\n",
       " Text(0.4864864864864865, 0.7727272727272727, 'X[8] <= -3490.465\\ngini = 0.662\\nsamples = 219\\nvalue = [61, 82, 76]'),\n",
       " Text(0.43243243243243246, 0.6818181818181818, 'gini = 0.0\\nsamples = 28\\nvalue = [0, 0, 28]'),\n",
       " Text(0.5405405405405406, 0.6818181818181818, 'X[8] <= -3232.669\\ngini = 0.651\\nsamples = 191\\nvalue = [61, 82, 48]'),\n",
       " Text(0.4864864864864865, 0.5909090909090909, 'gini = 0.0\\nsamples = 39\\nvalue = [0, 39, 0]'),\n",
       " Text(0.5945945945945946, 0.5909090909090909, 'X[8] <= -2395.322\\ngini = 0.659\\nsamples = 152\\nvalue = [61, 43, 48]'),\n",
       " Text(0.40540540540540543, 0.5, 'X[6] <= -1362.352\\ngini = 0.5\\nsamples = 88\\nvalue = [43, 0, 45]'),\n",
       " Text(0.35135135135135137, 0.4090909090909091, 'gini = 0.0\\nsamples = 39\\nvalue = [39, 0, 0]'),\n",
       " Text(0.4594594594594595, 0.4090909090909091, 'X[5] <= 1745.358\\ngini = 0.15\\nsamples = 49\\nvalue = [4, 0, 45]'),\n",
       " Text(0.40540540540540543, 0.3181818181818182, 'gini = 0.0\\nsamples = 45\\nvalue = [0, 0, 45]'),\n",
       " Text(0.5135135135135135, 0.3181818181818182, 'gini = 0.0\\nsamples = 4\\nvalue = [4, 0, 0]'),\n",
       " Text(0.7837837837837838, 0.5, 'X[7] <= -941.813\\ngini = 0.467\\nsamples = 64\\nvalue = [18, 43, 3]'),\n",
       " Text(0.6756756756756757, 0.4090909090909091, 'X[5] <= 1646.148\\ngini = 0.158\\nsamples = 47\\nvalue = [3, 43, 1]'),\n",
       " Text(0.6216216216216216, 0.3181818181818182, 'gini = 0.0\\nsamples = 38\\nvalue = [0, 38, 0]'),\n",
       " Text(0.7297297297297297, 0.3181818181818182, 'X[5] <= 1849.306\\ngini = 0.568\\nsamples = 9\\nvalue = [3, 5, 1]'),\n",
       " Text(0.6756756756756757, 0.22727272727272727, 'X[1] <= -0.465\\ngini = 0.56\\nsamples = 5\\nvalue = [3, 1, 1]'),\n",
       " Text(0.6216216216216216, 0.13636363636363635, 'X[3] <= -79.938\\ngini = 0.5\\nsamples = 2\\nvalue = [0, 1, 1]'),\n",
       " Text(0.5675675675675675, 0.045454545454545456, 'gini = 0.0\\nsamples = 1\\nvalue = [0, 1, 0]'),\n",
       " Text(0.6756756756756757, 0.045454545454545456, 'gini = 0.0\\nsamples = 1\\nvalue = [0, 0, 1]'),\n",
       " Text(0.7297297297297297, 0.13636363636363635, 'gini = 0.0\\nsamples = 3\\nvalue = [3, 0, 0]'),\n",
       " Text(0.7837837837837838, 0.22727272727272727, 'gini = 0.0\\nsamples = 4\\nvalue = [0, 4, 0]'),\n",
       " Text(0.8918918918918919, 0.4090909090909091, 'X[7] <= -857.679\\ngini = 0.208\\nsamples = 17\\nvalue = [15, 0, 2]'),\n",
       " Text(0.8378378378378378, 0.3181818181818182, 'gini = 0.0\\nsamples = 15\\nvalue = [15, 0, 0]'),\n",
       " Text(0.9459459459459459, 0.3181818181818182, 'gini = 0.0\\nsamples = 2\\nvalue = [0, 0, 2]')]"
      ]
     },
     "execution_count": 174,
     "metadata": {},
     "output_type": "execute_result"
    },
    {
     "data": {
      "image/png": "[encoded data removed]",
      "text/plain": [
       "<Figure size 640x480 with 1 Axes>"
      ]
     },
     "metadata": {},
     "output_type": "display_data"
    }
   ],
   "source": [
    "plot_tree(model)"
   ]
  },
  {
   "cell_type": "code",
   "execution_count": null,
   "metadata": {},
   "outputs": [],
   "source": [
    "board.stop_stream()"
   ]
  },
  {
   "cell_type": "code",
   "execution_count": null,
   "metadata": {},
   "outputs": [],
   "source": [
    "board.start_stream()\n",
    "BoardShim.disable_board_logger()\n",
    "\n",
    "sample_size = 512\n",
    "start_time = time.time()\n",
    "last_read = start_time\n",
    "time.sleep(3)\n",
    "\n",
    "realtime_raw_data = board.get_board_data()[1:9]\n",
    "\n",
    "while start_time + 30 > time.time():\n",
    "    realtime_raw_data = np.concatenate((realtime_raw_data, board.get_board_data()[1:9]), axis=1)[:,-sample_size:]\n",
    "    \n",
    "    realtime_data = np.mean(realtime_raw_data, axis=0)\n",
    "    \n",
    "    sr = 256\n",
    "    \n",
    "    delta = downsample(realtime_data, 2)[-1]\n",
    "    theta = downsample(realtime_data, 5)[-1]\n",
    "    alpha_low = downsample(realtime_data, 8)[-1]\n",
    "    alpha_high = downsample(realtime_data, 11)[-1]\n",
    "    beta_low = downsample(realtime_data, 15)[-1]\n",
    "    beta_high = downsample(realtime_data, 24)[-1]\n",
    "    gamma_low = downsample(realtime_data, 35)[-1]\n",
    "    gamma_mid = downsample(realtime_data, 45)[-1]\n",
    "    gamma_high = downsample(realtime_data, 55)[-1]\n",
    "    \n",
    "    \n",
    "    if time.time() > last_read + 0.5:\n",
    "        predictions = model.predict(np.array([delta, theta, alpha_low, alpha_high, beta_low, beta_high, gamma_low, gamma_mid, gamma_high]).reshape(1, -1))\n",
    "        last_read = time.time()\n",
    "        print(['Left', 'Nothing', 'Right'][predictions[0]])\n",
    "    \n",
    "    time.sleep(0.1)\n",
    "\n",
    "board.stop_stream()"
   ]
  },
  {
   "cell_type": "code",
   "execution_count": null,
   "metadata": {},
   "outputs": [],
   "source": [
    "board.release_session()"
   ]
  }
 ],
 "metadata": {
  "kernelspec": {
   "display_name": "neuronav",
   "language": "python",
   "name": "python3"
  },
  "language_info": {
   "codemirror_mode": {
    "name": "ipython",
    "version": 3
   },
   "file_extension": ".py",
   "mimetype": "text/x-python",
   "name": "python",
   "nbconvert_exporter": "python",
   "pygments_lexer": "ipython3",
   "version": "3.8.15"
  },
  "orig_nbformat": 4,
  "vscode": {
   "interpreter": {
    "hash": "6d5aef1c97cce0d8b1b8135a3f65fe22a8049f381bd703d7f19d42d052a45954"
   }
  }
 },
 "nbformat": 4,
 "nbformat_minor": 2
}

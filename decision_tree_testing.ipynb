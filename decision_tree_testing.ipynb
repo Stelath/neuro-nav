{
 "cells": [
  {
   "cell_type": "code",
   "execution_count": 100,
   "metadata": {},
   "outputs": [],
   "source": [
    "import time\n",
    "import math\n",
    "import numpy as np\n",
    "import pandas as pd\n",
    "import matplotlib.pyplot as plt\n",
    "\n",
    "from brainflow.board_shim import BoardShim, BrainFlowInputParams, LogLevels, BoardIds\n",
    "from brainflow.data_filter import DataFilter, AggOperations\n",
    "\n",
    "from sklearn import metrics\n",
    "from sklearn.tree import DecisionTreeClassifier, plot_tree\n",
    "from sklearn.model_selection import GridSearchCV, train_test_split"
   ]
  },
  {
   "cell_type": "code",
   "execution_count": 239,
   "metadata": {},
   "outputs": [
    {
     "name": "stderr",
     "output_type": "stream",
     "text": [
      "[2023-01-12 13:19:41.745] [board_logger] [info] incoming json: {\n",
      "    \"board_id\": 23,\n",
      "    \"file\": \"\",\n",
      "    \"file_anc\": \"\",\n",
      "    \"file_aux\": \"\",\n",
      "    \"ip_address\": \"\",\n",
      "    \"ip_address_anc\": \"\",\n",
      "    \"ip_address_aux\": \"\",\n",
      "    \"ip_port\": 0,\n",
      "    \"ip_port_anc\": 0,\n",
      "    \"ip_port_aux\": 0,\n",
      "    \"ip_protocol\": 0,\n",
      "    \"mac_address\": \"C0:EE:40:84:DD:56\",\n",
      "    \"master_board\": -100,\n",
      "    \"other_info\": \"\",\n",
      "    \"serial_number\": \"58a99b0107e64cd40ea5e6607882cbe2\",\n",
      "    \"serial_port\": \"\",\n",
      "    \"timeout\": 5\n",
      "}\n",
      "[2023-01-12 13:19:41.745] [board_logger] [trace] Board object created 23\n",
      "[2023-01-12 13:19:41.745] [board_logger] [debug] Use IP port 9000\n"
     ]
    }
   ],
   "source": [
    "board_id = BoardIds.CROWN_BOARD.value\n",
    "params = BrainFlowInputParams()\n",
    "params.mac_address = \"C0:EE:40:84:DD:56\"\n",
    "params.serial_number = \"58a99b0107e64cd40ea5e6607882cbe2\"\n",
    "params.board_id = board_id\n",
    "params.timeout = 5\n",
    "BoardShim.enable_dev_board_logger()\n",
    "board = BoardShim(board_id, params)\n",
    "board.prepare_session()"
   ]
  },
  {
   "cell_type": "code",
   "execution_count": 240,
   "metadata": {},
   "outputs": [
    {
     "name": "stdout",
     "output_type": "stream",
     "text": [
      "Think Nothing\n",
      "Think Yes\n",
      "Think No\n"
     ]
    }
   ],
   "source": [
    "inputs = []\n",
    "outputs = []\n",
    "BoardShim.disable_board_logger()\n",
    "board.start_stream()\n",
    "for i in range(1):\n",
    "    print(\"Think Nothing\")\n",
    "    time.sleep(1)\n",
    "    board.get_board_data()\n",
    "    time.sleep(10)\n",
    "    nothing = board.get_board_data()[1:9]\n",
    "    \n",
    "    print(\"Think Left\")\n",
    "    time.sleep(1)\n",
    "    board.get_board_data()\n",
    "    time.sleep(10)\n",
    "    left = board.get_board_data()[1:9]\n",
    "\n",
    "    print(\"Think Right\")\n",
    "    time.sleep(1)\n",
    "    board.get_board_data()\n",
    "    time.sleep(10)\n",
    "    right = board.get_board_data()[1:9]\n",
    "    \n",
    "    inputs.append(nothing)\n",
    "    inputs.append(left)\n",
    "    inputs.append(right)\n",
    "    outputs.append(1)\n",
    "    outputs.append(0)\n",
    "    outputs.append(2)\n",
    "board.stop_stream()"
   ]
  },
  {
   "cell_type": "code",
   "execution_count": 3,
   "metadata": {},
   "outputs": [
    {
     "ename": "NameError",
     "evalue": "name 'inputs' is not defined",
     "output_type": "error",
     "traceback": [
      "\u001b[0;31m---------------------------------------------------------------------------\u001b[0m",
      "\u001b[0;31mNameError\u001b[0m                                 Traceback (most recent call last)",
      "Cell \u001b[0;32mIn[3], line 1\u001b[0m\n\u001b[0;32m----> 1\u001b[0m dataset \u001b[39m=\u001b[39m np\u001b[39m.\u001b[39marray([inputs, outputs], dtype\u001b[39m=\u001b[39m\u001b[39mobject\u001b[39m)\n\u001b[1;32m      2\u001b[0m np\u001b[39m.\u001b[39msave(\u001b[39m\"\u001b[39m\u001b[39mraw_data_test.npy\u001b[39m\u001b[39m\"\u001b[39m, dataset)\n",
      "\u001b[0;31mNameError\u001b[0m: name 'inputs' is not defined"
     ]
    }
   ],
   "source": [
    "dataset = np.array([inputs, outputs], dtype=object)\n",
    "np.save(\"raw_data.npy\", dataset)"
   ]
  },
  {
   "cell_type": "code",
   "execution_count": 120,
   "metadata": {},
   "outputs": [],
   "source": [
    "dataset = np.load(\"raw_data_5min.npy\", allow_pickle=True)"
   ]
  },
  {
   "cell_type": "code",
   "execution_count": 121,
   "metadata": {},
   "outputs": [],
   "source": [
    "# def downsample(data, hz):\n",
    "#     num_downsamples = int(math.log2(256 / hz))\n",
    "#     for i in range(1, num_downsamples + 1):\n",
    "#         data += np.roll(data, i, axis=2)\n",
    "#     data = (data / num_downsamples)[:,:,num_downsamples::num_downsamples]\n",
    "#     return data\n",
    "\n",
    "# def downsample(data, hz):\n",
    "#     # HZ should be a full number\n",
    "#     length = data.shape[1]\n",
    "#     excess = length % (256 / hz)\n",
    "    \n",
    "#     # Cut off excess data\n",
    "#     if excess != 0:\n",
    "#         data = data[:,excess:]\n",
    "#     length = data.shape[1]\n",
    "    \n",
    "#     length = data.shape[1]\n",
    "#     split = np.split(data, length // hz, axis=1)\n",
    "#     data = np.array([np.mean(section) for section in split]).flatten()\n",
    "#     return data\n",
    "\n",
    "def downsample(data, hz, channels=False):\n",
    "    if channels:\n",
    "        original_type = data.dtype\n",
    "        data = data.astype('float64')\n",
    "        \n",
    "        downsampled_data = np.empty((data.shape[0], int(256 / hz)))\n",
    "        for i, channel in enumerate(data):\n",
    "            downsampled_data[i] = DataFilter.perform_downsampling(channel, int(256 / hz), AggOperations.MEAN.value)\n",
    "        \n",
    "        return downsampled_data.astype(original_type)\n",
    "    \n",
    "    original_type = data.dtype\n",
    "    data = data.astype('float64')\n",
    "    return DataFilter.perform_downsampling(data, int(256 / hz), AggOperations.MEAN.value).astype(original_type)"
   ]
  },
  {
   "cell_type": "code",
   "execution_count": 122,
   "metadata": {},
   "outputs": [],
   "source": [
    "def format_dataset(dataset):\n",
    "    inputs = []\n",
    "    targets = []\n",
    "    for i, data in enumerate(dataset[0]):\n",
    "        data = np.mean(data, axis=0)\n",
    "        \n",
    "        delta = downsample(data, 2)\n",
    "        theta = downsample(data, 5)\n",
    "        alpha_low = downsample(data, 8)\n",
    "        alpha_high = downsample(data, 11)\n",
    "        beta_low = downsample(data, 15)\n",
    "        beta_high = downsample(data, 24)\n",
    "        gamma_low = downsample(data, 35)\n",
    "        gamma_mid = downsample(data, 45)\n",
    "        gamma_high = downsample(data, 55)\n",
    "        \n",
    "        # Add to inputs and outputs\n",
    "        for j in range(len(delta)):\n",
    "            # Raw Samples Passed\n",
    "            rsp = j * 2\n",
    "            brain_waves = np.array([delta[j], theta[rsp//5], alpha_low[rsp//8], alpha_high[rsp//11], beta_low[rsp//15], beta_high[rsp//24], gamma_low[rsp//35], gamma_mid[rsp//45], gamma_high[rsp//55]]).flatten()\n",
    "            \n",
    "            inputs.append(brain_waves)\n",
    "            targets.append(dataset[1][i])\n",
    "\n",
    "    targets = np.array(targets)\n",
    "    inputs = np.array(inputs)\n",
    "    \n",
    "    return inputs, targets"
   ]
  },
  {
   "cell_type": "code",
   "execution_count": 123,
   "metadata": {},
   "outputs": [
    {
     "name": "stdout",
     "output_type": "stream",
     "text": [
      "(518, 9)\n",
      "(518,)\n"
     ]
    }
   ],
   "source": [
    "inputs, targets = format_dataset(dataset)\n",
    "print(inputs.shape)\n",
    "print(targets.shape)"
   ]
  },
  {
   "cell_type": "code",
   "execution_count": 129,
   "metadata": {},
   "outputs": [],
   "source": [
    "inputs_train, inputs_valid, targets_train, targets_valid = train_test_split(inputs, targets, test_size=0.3, random_state=42)\n",
    "test_dataset = np.load(\"raw_data_test.npy\", allow_pickle=True)\n",
    "inputs_test, targets_test = format_dataset(test_dataset)\n",
    "\n",
    "inputs_train = inputs_train.reshape(inputs_train.shape[0], -1)\n",
    "inputs_valid = inputs_valid.reshape(inputs_valid.shape[0], -1)\n",
    "\n",
    "param_grid = {\n",
    "    \"max_depth\": [3,5,10,15,20,None],\n",
    "    \"min_samples_split\": [2,5,7,10],\n",
    "    \"min_samples_leaf\": [1,2,5]\n",
    "}\n",
    "\n",
    "model = DecisionTreeClassifier(random_state=42)\n",
    "model = model.fit(inputs_train, targets_train)\n",
    "\n",
    "grid_cv = GridSearchCV(model, param_grid, n_jobs=-1).fit(inputs_train, targets_train)\n",
    "model = grid_cv"
   ]
  },
  {
   "cell_type": "code",
   "execution_count": 125,
   "metadata": {},
   "outputs": [],
   "source": [
    "plt.style.use('seaborn-v0_8-white')"
   ]
  },
  {
   "cell_type": "code",
   "execution_count": 136,
   "metadata": {},
   "outputs": [
    {
     "name": "stdout",
     "output_type": "stream",
     "text": [
      "Validation Accuracy: 0.9807692307692307\n",
      "Test Accuracy: 0.3389830508474576\n"
     ]
    },
    {
     "data": {
      "image/png": "[encoded data removed]",
      "text/plain": [
       "<Figure size 1200x800 with 3 Axes>"
      ]
     },
     "metadata": {},
     "output_type": "display_data"
    }
   ],
   "source": [
    "vaccuracy = metrics.accuracy_score(targets_valid, model.predict(inputs_valid))\n",
    "print(f\"Validation Accuracy: {vaccuracy}\")\n",
    "\n",
    "taccuracy = metrics.accuracy_score(targets_test, model.predict(inputs_test))\n",
    "print(f\"Test Accuracy: {taccuracy}\")\n",
    "\n",
    "\n",
    "\n",
    "f, axes = plt.subplots(1, 2)\n",
    "\n",
    "vcm = metrics.confusion_matrix(targets_valid, model.predict(inputs_valid))\n",
    "vdisp = metrics.ConfusionMatrixDisplay(confusion_matrix=vcm, display_labels=['Left', 'Nothing', 'Right'])\n",
    "vdisp.plot(ax=axes[0], cmap=plt.cm.Oranges)\n",
    "vdisp.im_.colorbar.remove()\n",
    "\n",
    "plt.subplot(1, 2, 2)\n",
    "tcm = metrics.confusion_matrix(targets_test, model.predict(inputs_test))\n",
    "tdisp = metrics.ConfusionMatrixDisplay(confusion_matrix=tcm, display_labels=['Left', 'Nothing', 'Right'])\n",
    "tdisp.plot(ax=axes[1], cmap=plt.cm.Oranges)\n",
    "tdisp.im_.colorbar.remove()\n",
    "\n",
    "plt.subplots_adjust(wspace=0.75, hspace=0.1)\n",
    "f.colorbar(tdisp.im_, ax=axes, shrink=0.5)\n",
    "fig = plt.gcf()\n",
    "fig.set_size_inches(12, 8)\n",
    "\n",
    "plt.show()"
   ]
  },
  {
   "cell_type": "code",
   "execution_count": 127,
   "metadata": {},
   "outputs": [
    {
     "data": {
      "text/plain": [
       "[Text(0.589041095890411, 0.9545454545454546, 'x[7] <= -5613.43\\ngini = 0.666\\nsamples = 362\\nvalue = [123, 123, 116]'),\n",
       " Text(0.3972602739726027, 0.8636363636363636, 'x[7] <= -8274.36\\ngini = 0.617\\nsamples = 225\\nvalue = [55, 54, 116]'),\n",
       " Text(0.3424657534246575, 0.7727272727272727, 'gini = 0.0\\nsamples = 31\\nvalue = [31, 0, 0]'),\n",
       " Text(0.4520547945205479, 0.7727272727272727, 'x[4] <= -5438.086\\ngini = 0.55\\nsamples = 194\\nvalue = [24, 54, 116]'),\n",
       " Text(0.3972602739726027, 0.6818181818181818, 'x[8] <= -7125.113\\ngini = 0.501\\nsamples = 182\\nvalue = [12, 54, 116]'),\n",
       " Text(0.3424657534246575, 0.5909090909090909, 'gini = 0.0\\nsamples = 12\\nvalue = [12, 0, 0]'),\n",
       " Text(0.4520547945205479, 0.5909090909090909, 'x[5] <= -8039.315\\ngini = 0.433\\nsamples = 170\\nvalue = [0, 54, 116]'),\n",
       " Text(0.3972602739726027, 0.5, 'gini = 0.0\\nsamples = 9\\nvalue = [0, 9, 0]'),\n",
       " Text(0.5068493150684932, 0.5, 'x[7] <= -6828.999\\ngini = 0.403\\nsamples = 161\\nvalue = [0, 45, 116]'),\n",
       " Text(0.3561643835616438, 0.4090909090909091, 'x[4] <= -5730.01\\ngini = 0.259\\nsamples = 98\\nvalue = [0, 15, 83]'),\n",
       " Text(0.2191780821917808, 0.3181818181818182, 'x[5] <= -5660.621\\ngini = 0.178\\nsamples = 91\\nvalue = [0, 9, 82]'),\n",
       " Text(0.1095890410958904, 0.22727272727272727, 'x[3] <= -5192.2\\ngini = 0.029\\nsamples = 67\\nvalue = [0, 1, 66]'),\n",
       " Text(0.0547945205479452, 0.13636363636363635, 'gini = 0.0\\nsamples = 66\\nvalue = [0, 0, 66]'),\n",
       " Text(0.1643835616438356, 0.13636363636363635, 'gini = 0.0\\nsamples = 1\\nvalue = [0, 1, 0]'),\n",
       " Text(0.3287671232876712, 0.22727272727272727, 'x[6] <= -7196.477\\ngini = 0.444\\nsamples = 24\\nvalue = [0, 8, 16]'),\n",
       " Text(0.273972602739726, 0.13636363636363635, 'x[6] <= -7737.469\\ngini = 0.32\\nsamples = 10\\nvalue = [0, 8, 2]'),\n",
       " Text(0.2191780821917808, 0.045454545454545456, 'gini = 0.0\\nsamples = 2\\nvalue = [0, 0, 2]'),\n",
       " Text(0.3287671232876712, 0.045454545454545456, 'gini = 0.0\\nsamples = 8\\nvalue = [0, 8, 0]'),\n",
       " Text(0.3835616438356164, 0.13636363636363635, 'gini = 0.0\\nsamples = 14\\nvalue = [0, 0, 14]'),\n",
       " Text(0.4931506849315068, 0.3181818181818182, 'x[8] <= -5173.525\\ngini = 0.245\\nsamples = 7\\nvalue = [0, 6, 1]'),\n",
       " Text(0.4383561643835616, 0.22727272727272727, 'gini = 0.0\\nsamples = 6\\nvalue = [0, 6, 0]'),\n",
       " Text(0.547945205479452, 0.22727272727272727, 'gini = 0.0\\nsamples = 1\\nvalue = [0, 0, 1]'),\n",
       " Text(0.6575342465753424, 0.4090909090909091, 'x[7] <= -6237.244\\ngini = 0.499\\nsamples = 63\\nvalue = [0, 30, 33]'),\n",
       " Text(0.6027397260273972, 0.3181818181818182, 'gini = 0.0\\nsamples = 30\\nvalue = [0, 30, 0]'),\n",
       " Text(0.7123287671232876, 0.3181818181818182, 'gini = 0.0\\nsamples = 33\\nvalue = [0, 0, 33]'),\n",
       " Text(0.5068493150684932, 0.6818181818181818, 'gini = 0.0\\nsamples = 12\\nvalue = [12, 0, 0]'),\n",
       " Text(0.7808219178082192, 0.8636363636363636, 'x[6] <= -4294.362\\ngini = 0.5\\nsamples = 137\\nvalue = [68, 69, 0]'),\n",
       " Text(0.6712328767123288, 0.7727272727272727, 'x[7] <= -5323.419\\ngini = 0.422\\nsamples = 96\\nvalue = [29, 67, 0]'),\n",
       " Text(0.6164383561643836, 0.6818181818181818, 'gini = 0.0\\nsamples = 14\\nvalue = [14, 0, 0]'),\n",
       " Text(0.726027397260274, 0.6818181818181818, 'x[6] <= -6600.983\\ngini = 0.299\\nsamples = 82\\nvalue = [15, 67, 0]'),\n",
       " Text(0.6712328767123288, 0.5909090909090909, 'gini = 0.0\\nsamples = 13\\nvalue = [13, 0, 0]'),\n",
       " Text(0.7808219178082192, 0.5909090909090909, 'x[8] <= -5933.187\\ngini = 0.056\\nsamples = 69\\nvalue = [2, 67, 0]'),\n",
       " Text(0.726027397260274, 0.5, 'gini = 0.0\\nsamples = 57\\nvalue = [0, 57, 0]'),\n",
       " Text(0.8356164383561644, 0.5, 'x[4] <= -4957.02\\ngini = 0.278\\nsamples = 12\\nvalue = [2, 10, 0]'),\n",
       " Text(0.7808219178082192, 0.4090909090909091, 'gini = 0.0\\nsamples = 2\\nvalue = [2, 0, 0]'),\n",
       " Text(0.8904109589041096, 0.4090909090909091, 'gini = 0.0\\nsamples = 10\\nvalue = [0, 10, 0]'),\n",
       " Text(0.8904109589041096, 0.7727272727272727, 'x[6] <= -3719.697\\ngini = 0.093\\nsamples = 41\\nvalue = [39, 2, 0]'),\n",
       " Text(0.8356164383561644, 0.6818181818181818, 'gini = 0.0\\nsamples = 39\\nvalue = [39, 0, 0]'),\n",
       " Text(0.9452054794520548, 0.6818181818181818, 'gini = 0.0\\nsamples = 2\\nvalue = [0, 2, 0]')]"
      ]
     },
     "execution_count": 127,
     "metadata": {},
     "output_type": "execute_result"
    },
    {
     "data": {
      "image/png": "[encoded data removed]",
      "text/plain": [
       "<Figure size 640x480 with 1 Axes>"
      ]
     },
     "metadata": {},
     "output_type": "display_data"
    }
   ],
   "source": [
    "plot_tree(model)"
   ]
  },
  {
   "cell_type": "code",
   "execution_count": 261,
   "metadata": {},
   "outputs": [],
   "source": [
    "board.stop_stream()"
   ]
  },
  {
   "cell_type": "code",
   "execution_count": null,
   "metadata": {},
   "outputs": [],
   "source": [
    "board.start_stream()\n",
    "BoardShim.disable_board_logger()\n",
    "\n",
    "sample_size = 512\n",
    "start_time = time.time()\n",
    "last_read = start_time\n",
    "time.sleep(3)\n",
    "\n",
    "realtime_raw_data = board.get_board_data()[1:9]\n",
    "\n",
    "while start_time + 30 > time.time():\n",
    "    realtime_raw_data = np.concatenate((realtime_raw_data, board.get_board_data()[1:9]), axis=1)[:,-sample_size:]\n",
    "    \n",
    "    realtime_data = np.mean(realtime_raw_data, axis=0)\n",
    "    \n",
    "    sr = 256\n",
    "    \n",
    "    delta = downsample(realtime_data, 2)[-1]\n",
    "    theta = downsample(realtime_data, 5)[-1]\n",
    "    alpha_low = downsample(realtime_data, 8)[-1]\n",
    "    alpha_high = downsample(realtime_data, 11)[-1]\n",
    "    beta_low = downsample(realtime_data, 15)[-1]\n",
    "    beta_high = downsample(realtime_data, 24)[-1]\n",
    "    gamma_low = downsample(realtime_data, 35)[-1]\n",
    "    gamma_mid = downsample(realtime_data, 45)[-1]\n",
    "    gamma_high = downsample(realtime_data, 55)[-1]\n",
    "    \n",
    "    \n",
    "    if time.time() > last_read + 0.5:\n",
    "        predictions = model.predict(np.array([delta, theta, alpha_low, alpha_high, beta_low, beta_high, gamma_low, gamma_mid, gamma_high]).reshape(1, -1))\n",
    "        last_read = time.time()\n",
    "        print(['Left', 'Nothing', 'Right'][predictions[0]])\n",
    "    \n",
    "    time.sleep(0.1)\n",
    "\n",
    "board.stop_stream()"
   ]
  },
  {
   "cell_type": "code",
   "execution_count": 237,
   "metadata": {},
   "outputs": [],
   "source": [
    "board.release_session()"
   ]
  }
 ],
 "metadata": {
  "kernelspec": {
   "display_name": "neuronav",
   "language": "python",
   "name": "python3"
  },
  "language_info": {
   "codemirror_mode": {
    "name": "ipython",
    "version": 3
   },
   "file_extension": ".py",
   "mimetype": "text/x-python",
   "name": "python",
   "nbconvert_exporter": "python",
   "pygments_lexer": "ipython3",
   "version": "3.8.15 | packaged by conda-forge | (default, Nov 22 2022, 08:49:06) \n[Clang 14.0.6 ]"
  },
  "orig_nbformat": 4,
  "vscode": {
   "interpreter": {
    "hash": "be87620a94818025b5b4311efc8d93e44f17ff79c0ab2def42127ed9eba4ef39"
   }
  }
 },
 "nbformat": 4,
 "nbformat_minor": 2
}

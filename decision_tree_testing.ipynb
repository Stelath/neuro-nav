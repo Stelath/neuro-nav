{
 "cells": [
  {
   "cell_type": "code",
   "execution_count": 3,
   "metadata": {},
   "outputs": [],
   "source": [
    "import time\n",
    "import numpy as np\n",
    "import pandas as pd\n",
    "import matplotlib.pyplot as plt\n",
    "\n",
    "from brainflow.board_shim import BoardShim, BrainFlowInputParams, LogLevels, BoardIds\n",
    "\n",
    "from sklearn import tree\n",
    "from sklearn import metrics\n",
    "from sklearn.model_selection import train_test_split"
   ]
  },
  {
   "cell_type": "code",
   "execution_count": 23,
   "metadata": {},
   "outputs": [
    {
     "name": "stderr",
     "output_type": "stream",
     "text": [
      "[2023-01-11 22:00:58.166] [board_logger] [info] incoming json: {\n",
      "    \"board_id\": 23,\n",
      "    \"file\": \"\",\n",
      "    \"file_anc\": \"\",\n",
      "    \"file_aux\": \"\",\n",
      "    \"ip_address\": \"\",\n",
      "    \"ip_address_anc\": \"\",\n",
      "    \"ip_address_aux\": \"\",\n",
      "    \"ip_port\": 0,\n",
      "    \"ip_port_anc\": 0,\n",
      "    \"ip_port_aux\": 0,\n",
      "    \"ip_protocol\": 0,\n",
      "    \"mac_address\": \"C0:EE:40:84:DD:56\",\n",
      "    \"master_board\": -100,\n",
      "    \"other_info\": \"\",\n",
      "    \"serial_number\": \"58a99b0107e64cd40ea5e6607882cbe2\",\n",
      "    \"serial_port\": \"\",\n",
      "    \"timeout\": 5\n",
      "}\n",
      "[2023-01-11 22:00:58.166] [board_logger] [trace] Board object created 23\n",
      "[2023-01-11 22:00:58.166] [board_logger] [debug] Use IP port 9000\n"
     ]
    }
   ],
   "source": [
    "board_id = BoardIds.CROWN_BOARD.value\n",
    "params = BrainFlowInputParams()\n",
    "params.mac_address = \"C0:EE:40:84:DD:56\"\n",
    "params.serial_number = \"58a99b0107e64cd40ea5e6607882cbe2\"\n",
    "params.board_id = board_id\n",
    "params.timeout = 5\n",
    "BoardShim.enable_dev_board_logger()\n",
    "board = BoardShim(board_id, params)\n",
    "board.prepare_session()"
   ]
  },
  {
   "cell_type": "code",
   "execution_count": 153,
   "metadata": {},
   "outputs": [
    {
     "name": "stdout",
     "output_type": "stream",
     "text": [
      "Think Nothing\n",
      "Think Left\n",
      "Think Right\n",
      "Think Nothing\n",
      "Think Left\n",
      "Think Right\n",
      "Think Nothing\n",
      "Think Left\n",
      "Think Right\n",
      "Think Nothing\n",
      "Think Left\n",
      "Think Right\n",
      "Think Nothing\n",
      "Think Left\n",
      "Think Right\n",
      "Think Nothing\n",
      "Think Left\n",
      "Think Right\n",
      "Think Nothing\n",
      "Think Left\n",
      "Think Right\n",
      "Think Nothing\n",
      "Think Left\n",
      "Think Right\n",
      "Think Nothing\n",
      "Think Left\n",
      "Think Right\n"
     ]
    }
   ],
   "source": [
    "inputs = []\n",
    "outputs = []\n",
    "BoardShim.disable_board_logger()\n",
    "board.start_stream()\n",
    "for i in range(9):\n",
    "    print(\"Think Nothing\")\n",
    "    time.sleep(1)\n",
    "    board.get_board_data()\n",
    "    time.sleep(4)\n",
    "    nothing = board.get_board_data()[1:9]\n",
    "    \n",
    "    print(\"Think Left\")\n",
    "    time.sleep(1)\n",
    "    board.get_board_data()\n",
    "    time.sleep(4)\n",
    "    left = board.get_board_data()[1:9]\n",
    "\n",
    "    print(\"Think Right\")\n",
    "    time.sleep(1)\n",
    "    board.get_board_data()\n",
    "    time.sleep(4)\n",
    "    right = board.get_board_data()[1:9]\n",
    "    \n",
    "    inputs.append(nothing)\n",
    "    inputs.append(left)\n",
    "    inputs.append(right)\n",
    "    outputs.append(1)\n",
    "    outputs.append(0)\n",
    "    outputs.append(2)\n",
    "board.stop_stream()"
   ]
  },
  {
   "cell_type": "code",
   "execution_count": 154,
   "metadata": {},
   "outputs": [],
   "source": [
    "data = np.array([inputs, outputs], dtype=object)\n",
    "np.save(\"raw_data.npy\", data)"
   ]
  },
  {
   "cell_type": "code",
   "execution_count": 185,
   "metadata": {},
   "outputs": [],
   "source": [
    "data = np.load(\"raw_data_5min.npy\", allow_pickle=True)"
   ]
  },
  {
   "cell_type": "code",
   "execution_count": 188,
   "metadata": {},
   "outputs": [],
   "source": [
    "inputs = []\n",
    "targets = []\n",
    "size = 32 * 2\n",
    "for i, reading in enumerate(data[0]):\n",
    "    length = reading.shape[1]\n",
    "    excess = length % size\n",
    "    # print(excess)\n",
    "    # Cut off excess data\n",
    "    if excess != 0:\n",
    "        reading = reading[:,:-excess]\n",
    "    length = reading.shape[1]\n",
    "    \n",
    "    # Split into smaller chunks for training\n",
    "    split_reading = np.split(reading, length // size, axis=1)\n",
    "    \n",
    "    # Add to inputs and outputs\n",
    "    for split in split_reading:\n",
    "        inputs.append(split)\n",
    "        targets.append(data[1][i])\n",
    "\n",
    "targets = np.array(targets)\n",
    "inputs = np.array(inputs)\n",
    "\n",
    "# Average the data\n",
    "inputs = ((inputs + np.roll(inputs, 1, axis=2)) / 2.0)[:,:,1::2]\n",
    "inputs = np.average(inputs, axis=1)"
   ]
  },
  {
   "cell_type": "code",
   "execution_count": 189,
   "metadata": {},
   "outputs": [
    {
     "name": "stdout",
     "output_type": "stream",
     "text": [
      "(1038, 32)\n",
      "(1038,)\n"
     ]
    }
   ],
   "source": [
    "print(inputs.shape)\n",
    "print(targets.shape)"
   ]
  },
  {
   "cell_type": "code",
   "execution_count": 194,
   "metadata": {},
   "outputs": [],
   "source": [
    "inputs_train, inputs_valid, targets_train, targets_valid = train_test_split(inputs, targets, test_size=0.3)\n",
    "\n",
    "inputs_train = inputs_train.reshape(inputs_train.shape[0], -1)\n",
    "inputs_valid = inputs_valid.reshape(inputs_valid.shape[0], -1)\n",
    "\n",
    "model = tree.DecisionTreeClassifier()\n",
    "model = model.fit(inputs_train, targets_train)"
   ]
  },
  {
   "cell_type": "code",
   "execution_count": 195,
   "metadata": {},
   "outputs": [],
   "source": [
    "plt.style.use('seaborn-v0_8-white')"
   ]
  },
  {
   "cell_type": "code",
   "execution_count": 196,
   "metadata": {},
   "outputs": [
    {
     "name": "stdout",
     "output_type": "stream",
     "text": [
      "[2 1 0 0 2 1 1 2 2 0 0 0 2 1 2 0 2 1 2 0 2 1 1 2 1 2 0 1 0 1 0 0 1 1 0 2 1\n",
      " 2 1 2 1 2 0 0 2 1 2 1 2 1 2 2 0 0 0 2 0 2 2 1 2 0 0 1 2 1 1 1 2 0 0 0 0 0\n",
      " 2 2 2 0 1 0 0 1 0 2 0 0 0 0 2 2 2 2 0 2 0 1 1 1 2 0 1 0 0 0 2 0 0 0 1 1 0\n",
      " 2 0 1 1 2 1 2 0 2 0 2 1 0 1 1 1 2 2 1 2 0 1 0 0 0 2 1 0 1 0 2 2 1 1 0 2 1\n",
      " 2 1 1 2 1 0 2 0 1 2 0 2 1 2 1 2 2 1 1 1 1 2 0 2 0 1 2 0 0 2 2 1 2 2 0 2 2\n",
      " 2 2 0 1 1 1 2 0 2 0 2 1 0 0 0 1 0 0 0 1 0 1 2 0 0 2 2 1 1 2 0 0 2 1 0 2 2\n",
      " 0 0 2 1 2 0 0 1 0 1 0 2 0 1 0 0 1 0 0 0 0 0 1 0 2 1 0 2 1 1 0 1 1 1 2 1 0\n",
      " 0 2 2 0 2 1 2 2 2 2 1 0 2 0 1 2 0 0 1 1 2 0 0 2 0 1 1 0 2 1 2 2 0 1 1 2 0\n",
      " 1 0 0 0 1 2 2 1 1 0 2 2 1 0 0 1]\n",
      "[2 1 0 0 2 1 1 2 2 0 0 0 2 1 2 1 2 1 2 0 2 1 1 0 1 2 0 1 0 2 0 0 1 1 0 2 2\n",
      " 2 1 2 1 2 0 0 2 1 2 1 2 1 2 2 0 0 0 2 0 2 2 1 2 0 0 1 2 1 1 1 2 0 0 0 0 0\n",
      " 2 2 2 0 1 0 0 1 0 2 0 0 0 0 2 2 0 2 0 2 0 1 1 1 2 0 1 0 0 0 2 0 0 0 1 1 0\n",
      " 2 0 1 1 2 1 2 0 2 0 2 1 0 1 1 1 2 2 1 2 0 1 0 0 0 2 1 0 1 0 2 2 1 1 0 2 1\n",
      " 2 1 1 2 1 0 2 0 1 2 0 2 1 2 1 2 2 1 1 1 1 2 0 2 0 1 2 0 0 2 2 1 2 2 0 2 2\n",
      " 2 2 0 1 1 1 2 0 2 0 2 1 0 0 0 1 0 0 0 1 0 1 2 0 0 2 2 1 1 2 1 0 2 1 0 2 2\n",
      " 0 0 2 1 2 0 0 1 0 1 0 2 1 1 0 0 1 0 0 0 0 0 1 0 2 1 0 2 1 1 0 1 1 1 2 1 0\n",
      " 0 2 2 0 2 1 2 2 2 2 1 0 2 0 1 2 0 0 1 1 2 0 0 2 2 1 1 0 2 1 2 2 0 1 1 2 0\n",
      " 1 0 0 0 1 2 2 1 1 0 2 2 1 0 0 1]\n",
      "0.9743589743589743\n"
     ]
    },
    {
     "data": {
      "image/png": "[encoded data removed]",
      "text/plain": [
       "<Figure size 640x480 with 2 Axes>"
      ]
     },
     "metadata": {},
     "output_type": "display_data"
    }
   ],
   "source": [
    "predictions = model.predict(inputs_valid)\n",
    "print(predictions)\n",
    "print(targets_valid)\n",
    "\n",
    "accuracy = metrics.accuracy_score(targets_valid, model.predict(inputs_valid))\n",
    "print(accuracy)\n",
    "\n",
    "cm = metrics.confusion_matrix(targets_valid, model.predict(inputs_valid))\n",
    "disp = metrics.ConfusionMatrixDisplay(confusion_matrix=cm, display_labels=['Left', 'Nothing', 'Right'])\n",
    "disp.plot(cmap=plt.cm.Oranges)\n",
    "plt.show()"
   ]
  },
  {
   "cell_type": "code",
   "execution_count": 197,
   "metadata": {},
   "outputs": [
    {
     "data": {
      "text/plain": [
       "[Text(0.5763888888888888, 0.9545454545454546, 'X[6] <= -7827.81\\ngini = 0.664\\nsamples = 726\\nvalue = [249, 263, 214]'),\n",
       " Text(0.3888888888888889, 0.8636363636363636, 'X[1] <= 687.66\\ngini = 0.609\\nsamples = 361\\nvalue = [107, 67, 187]'),\n",
       " Text(0.2361111111111111, 0.7727272727272727, 'X[10] <= -13307.1\\ngini = 0.593\\nsamples = 208\\nvalue = [106, 27, 75]'),\n",
       " Text(0.1388888888888889, 0.6818181818181818, 'X[8] <= -14069.785\\ngini = 0.501\\nsamples = 95\\nvalue = [7, 27, 61]'),\n",
       " Text(0.08333333333333333, 0.5909090909090909, 'X[7] <= 3190.618\\ngini = 0.517\\nsamples = 46\\nvalue = [2, 27, 17]'),\n",
       " Text(0.05555555555555555, 0.5, 'X[6] <= -11926.66\\ngini = 0.128\\nsamples = 29\\nvalue = [2, 27, 0]'),\n",
       " Text(0.027777777777777776, 0.4090909090909091, 'gini = 0.0\\nsamples = 27\\nvalue = [0, 27, 0]'),\n",
       " Text(0.08333333333333333, 0.4090909090909091, 'gini = 0.0\\nsamples = 2\\nvalue = [2, 0, 0]'),\n",
       " Text(0.1111111111111111, 0.5, 'gini = 0.0\\nsamples = 17\\nvalue = [0, 0, 17]'),\n",
       " Text(0.19444444444444445, 0.5909090909090909, 'X[27] <= -15322.531\\ngini = 0.183\\nsamples = 49\\nvalue = [5, 0, 44]'),\n",
       " Text(0.16666666666666666, 0.5, 'gini = 0.0\\nsamples = 5\\nvalue = [5, 0, 0]'),\n",
       " Text(0.2222222222222222, 0.5, 'gini = 0.0\\nsamples = 44\\nvalue = [0, 0, 44]'),\n",
       " Text(0.3333333333333333, 0.6818181818181818, 'X[25] <= -12844.612\\ngini = 0.217\\nsamples = 113\\nvalue = [99, 0, 14]'),\n",
       " Text(0.3055555555555556, 0.5909090909090909, 'X[15] <= -7960.305\\ngini = 0.444\\nsamples = 42\\nvalue = [28, 0, 14]'),\n",
       " Text(0.2777777777777778, 0.5, 'gini = 0.0\\nsamples = 27\\nvalue = [27, 0, 0]'),\n",
       " Text(0.3333333333333333, 0.5, 'X[16] <= -8165.785\\ngini = 0.124\\nsamples = 15\\nvalue = [1, 0, 14]'),\n",
       " Text(0.3055555555555556, 0.4090909090909091, 'gini = 0.0\\nsamples = 1\\nvalue = [1, 0, 0]'),\n",
       " Text(0.3611111111111111, 0.4090909090909091, 'gini = 0.0\\nsamples = 14\\nvalue = [0, 0, 14]'),\n",
       " Text(0.3611111111111111, 0.5909090909090909, 'gini = 0.0\\nsamples = 71\\nvalue = [71, 0, 0]'),\n",
       " Text(0.5416666666666666, 0.7727272727272727, 'X[2] <= -14773.823\\ngini = 0.396\\nsamples = 153\\nvalue = [1, 40, 112]'),\n",
       " Text(0.4722222222222222, 0.6818181818181818, 'X[3] <= 1970.663\\ngini = 0.481\\nsamples = 62\\nvalue = [0, 37, 25]'),\n",
       " Text(0.4166666666666667, 0.5909090909090909, 'X[19] <= -14788.896\\ngini = 0.284\\nsamples = 35\\nvalue = [0, 29, 6]'),\n",
       " Text(0.3888888888888889, 0.5, 'gini = 0.0\\nsamples = 29\\nvalue = [0, 29, 0]'),\n",
       " Text(0.4444444444444444, 0.5, 'gini = 0.0\\nsamples = 6\\nvalue = [0, 0, 6]'),\n",
       " Text(0.5277777777777778, 0.5909090909090909, 'X[27] <= -4698.688\\ngini = 0.417\\nsamples = 27\\nvalue = [0, 8, 19]'),\n",
       " Text(0.5, 0.5, 'gini = 0.0\\nsamples = 19\\nvalue = [0, 0, 19]'),\n",
       " Text(0.5555555555555556, 0.5, 'gini = 0.0\\nsamples = 8\\nvalue = [0, 8, 0]'),\n",
       " Text(0.6111111111111112, 0.6818181818181818, 'X[15] <= -15123.633\\ngini = 0.085\\nsamples = 91\\nvalue = [1, 3, 87]'),\n",
       " Text(0.5833333333333334, 0.5909090909090909, 'gini = 0.0\\nsamples = 3\\nvalue = [0, 3, 0]'),\n",
       " Text(0.6388888888888888, 0.5909090909090909, 'X[18] <= -121.982\\ngini = 0.022\\nsamples = 88\\nvalue = [1, 0, 87]'),\n",
       " Text(0.6111111111111112, 0.5, 'gini = 0.0\\nsamples = 1\\nvalue = [1, 0, 0]'),\n",
       " Text(0.6666666666666666, 0.5, 'gini = 0.0\\nsamples = 87\\nvalue = [0, 0, 87]'),\n",
       " Text(0.7638888888888888, 0.8636363636363636, 'X[12] <= -12495.656\\ngini = 0.555\\nsamples = 365\\nvalue = [142, 196, 27]'),\n",
       " Text(0.7361111111111112, 0.7727272727272727, 'gini = 0.0\\nsamples = 71\\nvalue = [71, 0, 0]'),\n",
       " Text(0.7916666666666666, 0.7727272727272727, 'X[31] <= -13531.509\\ngini = 0.489\\nsamples = 294\\nvalue = [71, 196, 27]'),\n",
       " Text(0.7638888888888888, 0.6818181818181818, 'gini = 0.0\\nsamples = 21\\nvalue = [21, 0, 0]'),\n",
       " Text(0.8194444444444444, 0.6818181818181818, 'X[24] <= -12866.072\\ngini = 0.441\\nsamples = 273\\nvalue = [50, 196, 27]'),\n",
       " Text(0.75, 0.5909090909090909, 'X[10] <= 1163.578\\ngini = 0.485\\nsamples = 82\\nvalue = [48, 34, 0]'),\n",
       " Text(0.7222222222222222, 0.5, 'X[25] <= -492.481\\ngini = 0.111\\nsamples = 51\\nvalue = [48, 3, 0]'),\n",
       " Text(0.6944444444444444, 0.4090909090909091, 'X[0] <= -1888.753\\ngini = 0.48\\nsamples = 5\\nvalue = [2, 3, 0]'),\n",
       " Text(0.6666666666666666, 0.3181818181818182, 'gini = 0.0\\nsamples = 3\\nvalue = [0, 3, 0]'),\n",
       " Text(0.7222222222222222, 0.3181818181818182, 'gini = 0.0\\nsamples = 2\\nvalue = [2, 0, 0]'),\n",
       " Text(0.75, 0.4090909090909091, 'gini = 0.0\\nsamples = 46\\nvalue = [46, 0, 0]'),\n",
       " Text(0.7777777777777778, 0.5, 'gini = 0.0\\nsamples = 31\\nvalue = [0, 31, 0]'),\n",
       " Text(0.8888888888888888, 0.5909090909090909, 'X[27] <= 1026.044\\ngini = 0.261\\nsamples = 191\\nvalue = [2, 162, 27]'),\n",
       " Text(0.8333333333333334, 0.5, 'X[10] <= 1223.716\\ngini = 0.088\\nsamples = 154\\nvalue = [2, 147, 5]'),\n",
       " Text(0.8055555555555556, 0.4090909090909091, 'X[14] <= 2016.575\\ngini = 0.039\\nsamples = 150\\nvalue = [2, 147, 1]'),\n",
       " Text(0.7777777777777778, 0.3181818181818182, 'X[15] <= 2334.39\\ngini = 0.026\\nsamples = 149\\nvalue = [2, 147, 0]'),\n",
       " Text(0.75, 0.22727272727272727, 'X[31] <= -13419.867\\ngini = 0.013\\nsamples = 148\\nvalue = [1, 147, 0]'),\n",
       " Text(0.7222222222222222, 0.13636363636363635, 'X[22] <= -11027.958\\ngini = 0.5\\nsamples = 2\\nvalue = [1, 1, 0]'),\n",
       " Text(0.6944444444444444, 0.045454545454545456, 'gini = 0.0\\nsamples = 1\\nvalue = [0, 1, 0]'),\n",
       " Text(0.75, 0.045454545454545456, 'gini = 0.0\\nsamples = 1\\nvalue = [1, 0, 0]'),\n",
       " Text(0.7777777777777778, 0.13636363636363635, 'gini = 0.0\\nsamples = 146\\nvalue = [0, 146, 0]'),\n",
       " Text(0.8055555555555556, 0.22727272727272727, 'gini = 0.0\\nsamples = 1\\nvalue = [1, 0, 0]'),\n",
       " Text(0.8333333333333334, 0.3181818181818182, 'gini = 0.0\\nsamples = 1\\nvalue = [0, 0, 1]'),\n",
       " Text(0.8611111111111112, 0.4090909090909091, 'gini = 0.0\\nsamples = 4\\nvalue = [0, 0, 4]'),\n",
       " Text(0.9444444444444444, 0.5, 'X[11] <= -12665.172\\ngini = 0.482\\nsamples = 37\\nvalue = [0, 15, 22]'),\n",
       " Text(0.9166666666666666, 0.4090909090909091, 'gini = 0.0\\nsamples = 15\\nvalue = [0, 15, 0]'),\n",
       " Text(0.9722222222222222, 0.4090909090909091, 'gini = 0.0\\nsamples = 22\\nvalue = [0, 0, 22]')]"
      ]
     },
     "execution_count": 197,
     "metadata": {},
     "output_type": "execute_result"
    },
    {
     "data": {
      "image/png": "[encoded data removed]",
      "text/plain": [
       "<Figure size 640x480 with 1 Axes>"
      ]
     },
     "metadata": {},
     "output_type": "display_data"
    }
   ],
   "source": [
    "tree.plot_tree(model)"
   ]
  },
  {
   "cell_type": "code",
   "execution_count": 183,
   "metadata": {},
   "outputs": [],
   "source": [
    "board.stop_stream()"
   ]
  },
  {
   "cell_type": "code",
   "execution_count": 198,
   "metadata": {},
   "outputs": [
    {
     "name": "stdout",
     "output_type": "stream",
     "text": [
      "Nothing\n",
      "Nothing\n",
      "Nothing\n",
      "Nothing\n",
      "Nothing\n",
      "Nothing\n",
      "Nothing\n",
      "Nothing\n",
      "Right\n",
      "Nothing\n",
      "Nothing\n",
      "Nothing\n",
      "Nothing\n",
      "Nothing\n",
      "Nothing\n",
      "Nothing\n",
      "Nothing\n",
      "Nothing\n",
      "Nothing\n",
      "Nothing\n",
      "Nothing\n",
      "Nothing\n",
      "Nothing\n",
      "Nothing\n",
      "Nothing\n",
      "Nothing\n",
      "Nothing\n",
      "Nothing\n"
     ]
    },
    {
     "ename": "KeyboardInterrupt",
     "evalue": "",
     "output_type": "error",
     "traceback": [
      "\u001b[0;31m---------------------------------------------------------------------------\u001b[0m",
      "\u001b[0;31mKeyboardInterrupt\u001b[0m                         Traceback (most recent call last)",
      "Cell \u001b[0;32mIn[198], line 20\u001b[0m\n\u001b[1;32m     17\u001b[0m         last_read \u001b[39m=\u001b[39m time\u001b[39m.\u001b[39mtime()\n\u001b[1;32m     18\u001b[0m         \u001b[39mprint\u001b[39m([\u001b[39m'\u001b[39m\u001b[39mLeft\u001b[39m\u001b[39m'\u001b[39m, \u001b[39m'\u001b[39m\u001b[39mNothing\u001b[39m\u001b[39m'\u001b[39m, \u001b[39m'\u001b[39m\u001b[39mRight\u001b[39m\u001b[39m'\u001b[39m][predictions[\u001b[39m0\u001b[39m]])\n\u001b[0;32m---> 20\u001b[0m     time\u001b[39m.\u001b[39;49msleep(\u001b[39m0.1\u001b[39;49m)\n\u001b[1;32m     22\u001b[0m board\u001b[39m.\u001b[39mstop_stream()\n",
      "\u001b[0;31mKeyboardInterrupt\u001b[0m: "
     ]
    }
   ],
   "source": [
    "board.start_stream()\n",
    "\n",
    "start_time = time.time()\n",
    "last_read = start_time\n",
    "time.sleep(3)\n",
    "\n",
    "realtime_raw_data = board.get_board_data()[1:9]\n",
    "\n",
    "while start_time + 30 > time.time():\n",
    "    realtime_raw_data = np.concatenate((realtime_raw_data, board.get_board_data()[1:9]), axis=1)[:,-size:]\n",
    "    \n",
    "    realtime_data = ((realtime_raw_data + np.roll(realtime_raw_data, 1, axis=1)) / 2.0)[:,1::2]\n",
    "    realtime_data = np.average(realtime_data, axis=0)\n",
    "    \n",
    "    if time.time() > last_read + 0.5:\n",
    "        predictions = model.predict(np.expand_dims(realtime_data.flatten(), axis=0))\n",
    "        last_read = time.time()\n",
    "        print(['Left', 'Nothing', 'Right'][predictions[0]])\n",
    "    \n",
    "    time.sleep(0.1)\n",
    "\n",
    "board.stop_stream()"
   ]
  },
  {
   "cell_type": "code",
   "execution_count": null,
   "metadata": {},
   "outputs": [],
   "source": []
  }
 ],
 "metadata": {
  "kernelspec": {
   "display_name": "neuronav",
   "language": "python",
   "name": "python3"
  },
  "language_info": {
   "codemirror_mode": {
    "name": "ipython",
    "version": 3
   },
   "file_extension": ".py",
   "mimetype": "text/x-python",
   "name": "python",
   "nbconvert_exporter": "python",
   "pygments_lexer": "ipython3",
   "version": "3.8.15"
  },
  "orig_nbformat": 4,
  "vscode": {
   "interpreter": {
    "hash": "6d5aef1c97cce0d8b1b8135a3f65fe22a8049f381bd703d7f19d42d052a45954"
   }
  }
 },
 "nbformat": 4,
 "nbformat_minor": 2
}

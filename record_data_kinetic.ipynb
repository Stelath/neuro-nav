{
 "cells": [
  {
   "cell_type": "code",
   "execution_count": 6,
   "metadata": {},
   "outputs": [],
   "source": [
    "import time\n",
    "import math\n",
    "import sdl2\n",
    "import numpy as np\n",
    "import pandas as pd\n",
    "import matplotlib.pyplot as plt\n",
    "from datetime import datetime\n",
    "\n",
    "from brainflow.board_shim import BoardShim, BrainFlowInputParams, LogLevels, BoardIds\n",
    "from brainflow.data_filter import DataFilter, AggOperations, FilterTypes, WindowOperations, NoiseTypes"
   ]
  },
  {
   "cell_type": "code",
   "execution_count": 18,
   "metadata": {},
   "outputs": [
    {
     "name": "stdout",
     "output_type": "stream",
     "text": [
      "X: 3860 Y: 540 Direction: center                      \r"
     ]
    },
    {
     "ename": "KeyboardInterrupt",
     "evalue": "",
     "output_type": "error",
     "traceback": [
      "\u001b[0;31m---------------------------------------------------------------------------\u001b[0m",
      "\u001b[0;31mKeyboardInterrupt\u001b[0m                         Traceback (most recent call last)",
      "Cell \u001b[0;32mIn[18], line 17\u001b[0m\n\u001b[1;32m     15\u001b[0m \u001b[39mprint\u001b[39m(\u001b[39mf\u001b[39m\u001b[39m\"\u001b[39m\u001b[39mX: \u001b[39m\u001b[39m{\u001b[39;00mjoy_x\u001b[39m}\u001b[39;00m\u001b[39m Y: \u001b[39m\u001b[39m{\u001b[39;00mjoy_y\u001b[39m}\u001b[39;00m\u001b[39m Direction: \u001b[39m\u001b[39m{\u001b[39;00mx_direction\u001b[39m}\u001b[39;00m\u001b[39m                    \u001b[39m\u001b[39m\"\u001b[39m, end\u001b[39m=\u001b[39m\u001b[39m\"\u001b[39m\u001b[39m\\r\u001b[39;00m\u001b[39m\"\u001b[39m)\n\u001b[1;32m     16\u001b[0m \u001b[39mprint\u001b[39m\n\u001b[0;32m---> 17\u001b[0m time\u001b[39m.\u001b[39;49msleep(\u001b[39m1\u001b[39;49m\u001b[39m/\u001b[39;49m\u001b[39m512\u001b[39;49m)\n",
      "\u001b[0;31mKeyboardInterrupt\u001b[0m: "
     ]
    }
   ],
   "source": [
    "\n",
    "\n",
    "sdl2.SDL_Init(sdl2.SDL_INIT_JOYSTICK)\n",
    "joystick = sdl2.SDL_JoystickOpen(0)\n",
    "\n",
    "def get_direction():\n",
    "    sdl2.SDL_PumpEvents()\n",
    "    #depending on the gamepad this gives you a value between -32768 and +32768\n",
    "    #or between 0 and 32768\n",
    "    x = sdl2.SDL_JoystickGetAxis(joystick, 0)\n",
    "    y = sdl2.SDL_JoystickGetAxis(joystick, 1)\n",
    "    \n",
    "    # x_direction = \"right\" if joy_x / 32768 > 0.3 else \"left\" if joy_x / 32768 < -0.1 else \"center\" # WARNING: A bit offset because of drift, should be 0.2 and -0.2 for the deadzone\n",
    "    \n",
    "    # print(f\"X: {joy_x} Y: {joy_y} Direction: {x_direction}                    \", end=\"\\r\")\n",
    "    \n",
    "    return x, y"
   ]
  },
  {
   "cell_type": "code",
   "execution_count": 45,
   "metadata": {},
   "outputs": [
    {
     "name": "stderr",
     "output_type": "stream",
     "text": [
      "[2023-01-18 23:14:05.269] [board_logger] [info] incoming json: {\n",
      "    \"board_id\": 23,\n",
      "    \"file\": \"\",\n",
      "    \"file_anc\": \"\",\n",
      "    \"file_aux\": \"\",\n",
      "    \"ip_address\": \"\",\n",
      "    \"ip_address_anc\": \"\",\n",
      "    \"ip_address_aux\": \"\",\n",
      "    \"ip_port\": 0,\n",
      "    \"ip_port_anc\": 0,\n",
      "    \"ip_port_aux\": 0,\n",
      "    \"ip_protocol\": 0,\n",
      "    \"mac_address\": \"C0:EE:40:84:DD:56\",\n",
      "    \"master_board\": -100,\n",
      "    \"other_info\": \"\",\n",
      "    \"serial_number\": \"58a99b0107e64cd40ea5e6607882cbe2\",\n",
      "    \"serial_port\": \"\",\n",
      "    \"timeout\": 5\n",
      "}\n",
      "[2023-01-18 23:14:05.269] [board_logger] [trace] Board object created 23\n",
      "[2023-01-18 23:14:05.269] [board_logger] [debug] Use IP port 9000\n"
     ]
    }
   ],
   "source": [
    "board_id = BoardIds.CROWN_BOARD.value\n",
    "params = BrainFlowInputParams()\n",
    "params.mac_address = \"C0:EE:40:84:DD:56\"\n",
    "params.serial_number = \"58a99b0107e64cd40ea5e6607882cbe2\"\n",
    "params.board_id = board_id\n",
    "params.timeout = 5\n",
    "BoardShim.enable_dev_board_logger()\n",
    "board = BoardShim(board_id, params)\n",
    "board.prepare_session()"
   ]
  },
  {
   "cell_type": "code",
   "execution_count": 46,
   "metadata": {},
   "outputs": [
    {
     "name": "stdout",
     "output_type": "stream",
     "text": [
      "Think Nothing\n",
      "Think Left\n",
      "Think Right\n",
      "Think Nothing\n",
      "Think Left\n",
      "Think Right\n",
      "Think Nothing\n",
      "Think Left\n",
      "Think Right\n"
     ]
    }
   ],
   "source": [
    "train_test = input(\"Train or Test? \").lower()\n",
    "\n",
    "inputs = []\n",
    "outputs = []\n",
    "BoardShim.disable_board_logger()\n",
    "board.start_stream()\n",
    "\n",
    "start_time = time.time()\n",
    "\n",
    "while time.time() - start_time < 60:\n",
    "    inputs.append(board.get_current_board_data())\n",
    "    outputs.append(list(get_direction()))\n",
    "    time.sleep(0.1)\n",
    "\n",
    "board.stop_stream()"
   ]
  },
  {
   "cell_type": "code",
   "execution_count": 42,
   "metadata": {},
   "outputs": [],
   "source": [
    "now = datetime.now()\n",
    "dt_string = now.strftime(\"%d:%m:%Y-%H:%M:%S\")\n",
    "\n",
    "dataset = np.array([inputs, outputs], dtype=object)\n",
    "np.save(f\"data/{train_test}/{dt_string}.npy\", dataset)"
   ]
  },
  {
   "cell_type": "code",
   "execution_count": 43,
   "metadata": {},
   "outputs": [],
   "source": [
    "board.release_session()"
   ]
  },
  {
   "cell_type": "code",
   "execution_count": null,
   "metadata": {},
   "outputs": [],
   "source": []
  }
 ],
 "metadata": {
  "kernelspec": {
   "display_name": "neuronav",
   "language": "python",
   "name": "python3"
  },
  "language_info": {
   "codemirror_mode": {
    "name": "ipython",
    "version": 3
   },
   "file_extension": ".py",
   "mimetype": "text/x-python",
   "name": "python",
   "nbconvert_exporter": "python",
   "pygments_lexer": "ipython3",
   "version": "3.8.15"
  },
  "orig_nbformat": 4,
  "vscode": {
   "interpreter": {
    "hash": "6d5aef1c97cce0d8b1b8135a3f65fe22a8049f381bd703d7f19d42d052a45954"
   }
  }
 },
 "nbformat": 4,
 "nbformat_minor": 2
}

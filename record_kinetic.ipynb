{
 "cells": [
  {
   "cell_type": "code",
   "execution_count": 11,
   "metadata": {},
   "outputs": [],
   "source": [
    "import time\n",
    "import sdl2\n",
    "import math\n",
    "import numpy as np\n",
    "import pandas as pd\n",
    "import matplotlib.pyplot as plt\n",
    "from datetime import datetime\n",
    "\n",
    "from brainflow.board_shim import BoardShim, BrainFlowInputParams, LogLevels, BoardIds\n",
    "from brainflow.data_filter import DataFilter, AggOperations, FilterTypes, WindowOperations, NoiseTypes"
   ]
  },
  {
   "cell_type": "code",
   "execution_count": 12,
   "metadata": {},
   "outputs": [
    {
     "name": "stderr",
     "output_type": "stream",
     "text": [
      "[2023-01-30 23:29:46.670] [board_logger] [info] incoming json: {\n",
      "    \"board_id\": 23,\n",
      "    \"file\": \"\",\n",
      "    \"file_anc\": \"\",\n",
      "    \"file_aux\": \"\",\n",
      "    \"ip_address\": \"\",\n",
      "    \"ip_address_anc\": \"\",\n",
      "    \"ip_address_aux\": \"\",\n",
      "    \"ip_port\": 0,\n",
      "    \"ip_port_anc\": 0,\n",
      "    \"ip_port_aux\": 0,\n",
      "    \"ip_protocol\": 0,\n",
      "    \"mac_address\": \"C0:EE:40:84:DD:56\",\n",
      "    \"master_board\": -100,\n",
      "    \"other_info\": \"\",\n",
      "    \"serial_number\": \"58a99b0107e64cd40ea5e6607882cbe2\",\n",
      "    \"serial_port\": \"\",\n",
      "    \"timeout\": 5\n",
      "}\n",
      "[2023-01-30 23:29:46.670] [board_logger] [trace] Board object created 23\n",
      "[2023-01-30 23:29:46.670] [board_logger] [debug] Use IP port 9000\n"
     ]
    }
   ],
   "source": [
    "board_id = BoardIds.CROWN_BOARD.value\n",
    "params = BrainFlowInputParams()\n",
    "params.mac_address = \"C0:EE:40:84:DD:56\"\n",
    "params.serial_number = \"58a99b0107e64cd40ea5e6607882cbe2\"\n",
    "params.board_id = board_id\n",
    "params.timeout = 5\n",
    "BoardShim.enable_dev_board_logger()\n",
    "board = BoardShim(board_id, params)\n",
    "board.prepare_session()"
   ]
  },
  {
   "cell_type": "code",
   "execution_count": 13,
   "metadata": {},
   "outputs": [],
   "source": [
    "sdl2.SDL_Init(sdl2.SDL_INIT_JOYSTICK)\n",
    "joystick = sdl2.SDL_JoystickOpen(0)\n",
    "\n",
    "def get_direction():\n",
    "        sdl2.SDL_PumpEvents()\n",
    "        # depending on the gamepad this gives you a value between -32768 and +32768\n",
    "        # or between 0 and 32768\n",
    "        x = sdl2.SDL_JoystickGetAxis(joystick, 0)\n",
    "        y = sdl2.SDL_JoystickGetAxis(joystick, 1)\n",
    "        # x_direction = \"right\" if joy_x / 32768 > 0.3 else \"left\" if joy_x / 32768 < -0.1 else \"center\" # WARNING: A bit offset because of drift, should be 0.2 and -0.2 for the deadzone\n",
    "        # print(f\"X: {joy_x} Y: {joy_y} Direction: {x_direction}                    \", end=\"\\r\")\n",
    "\n",
    "        return x, y"
   ]
  },
  {
   "cell_type": "code",
   "execution_count": 8,
   "metadata": {},
   "outputs": [
    {
     "name": "stdout",
     "output_type": "stream",
     "text": [
      "X: 1121 Y: 96 Direction: center                        \r"
     ]
    }
   ],
   "source": [
    "train_test = input(\"Train or Test? \").lower()\n",
    "\n",
    "start_time = time.time()\n",
    "inputs = np.empty((8,0))\n",
    "outputs = []\n",
    "BoardShim.disable_board_logger()\n",
    "board.start_stream()\n",
    "while(start_time + 60 > time.time()):\n",
    "    x, y = get_direction()\n",
    "    direction = 2 if x / 32768 > 0.2 else 0 if x / 32768 < -0.2 else 1\n",
    "    data = board.get_board_data()[1:9]\n",
    "    inputs = np.concatenate((inputs, data), axis=1)\n",
    "    for i in range(data.shape[1]):\n",
    "        outputs.append(direction)\n",
    "    text_direction = \"right\" if x / 32768 > 0.2 else \"left\" if x / 32768 < -0.2 else \"center\"\n",
    "    print(f\"X: {x} Y: {y} Direction: {text_direction}                    \", end=\"\\r\")\n",
    "    time.sleep(0.05)\n",
    "\n",
    "outputs = np.array(outputs)    \n",
    "board.stop_stream()"
   ]
  },
  {
   "cell_type": "code",
   "execution_count": 9,
   "metadata": {},
   "outputs": [
    {
     "name": "stderr",
     "output_type": "stream",
     "text": [
      "/tmp/ipykernel_235865/3853576982.py:4: VisibleDeprecationWarning: Creating an ndarray from ragged nested sequences (which is a list-or-tuple of lists-or-tuples-or ndarrays with different lengths or shapes) is deprecated. If you meant to do this, you must specify 'dtype=object' when creating the ndarray.\n",
      "  dataset = np.array([inputs, outputs])\n"
     ]
    }
   ],
   "source": [
    "now = datetime.now()\n",
    "dt_string = now.strftime(\"%d:%m:%Y-%H:%M:%S\")\n",
    "\n",
    "dataset = np.array([inputs, outputs])\n",
    "np.save(f\"data/{train_test}/{dt_string}.npy\", dataset)"
   ]
  },
  {
   "cell_type": "code",
   "execution_count": 32,
   "metadata": {},
   "outputs": [],
   "source": [
    "board.release_session()"
   ]
  }
 ],
 "metadata": {
  "kernelspec": {
   "display_name": "neuronav",
   "language": "python",
   "name": "python3"
  },
  "language_info": {
   "codemirror_mode": {
    "name": "ipython",
    "version": 3
   },
   "file_extension": ".py",
   "mimetype": "text/x-python",
   "name": "python",
   "nbconvert_exporter": "python",
   "pygments_lexer": "ipython3",
   "version": "3.8.15"
  },
  "orig_nbformat": 4,
  "vscode": {
   "interpreter": {
    "hash": "6d5aef1c97cce0d8b1b8135a3f65fe22a8049f381bd703d7f19d42d052a45954"
   }
  }
 },
 "nbformat": 4,
 "nbformat_minor": 2
}

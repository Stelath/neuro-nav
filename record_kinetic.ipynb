{
 "cells": [
  {
   "cell_type": "code",
   "execution_count": 1,
   "metadata": {},
   "outputs": [],
   "source": [
    "import time\n",
    "import sdl2\n",
    "import math\n",
    "import numpy as np\n",
    "import pandas as pd\n",
    "import matplotlib.pyplot as plt\n",
    "from datetime import datetime\n",
    "\n",
    "from brainflow.board_shim import BoardShim, BrainFlowInputParams, LogLevels, BoardIds\n",
    "from brainflow.data_filter import DataFilter, AggOperations, FilterTypes, WindowOperations, NoiseTypes\n",
    "\n",
    "from scipy import signal\n",
    "\n",
    "import dearpygui.dearpygui as dpg"
   ]
  },
  {
   "cell_type": "code",
   "execution_count": 2,
   "metadata": {},
   "outputs": [
    {
     "data": {
      "text/plain": [
       "['CP3', 'C3', 'F5', 'PO3', 'PO4', 'F6', 'C4', 'CP4']"
      ]
     },
     "execution_count": 2,
     "metadata": {},
     "output_type": "execute_result"
    }
   ],
   "source": [
    "BoardShim.get_eeg_names(BoardIds.CROWN_BOARD.value)"
   ]
  },
  {
   "cell_type": "code",
   "execution_count": 2,
   "metadata": {},
   "outputs": [
    {
     "name": "stderr",
     "output_type": "stream",
     "text": [
      "[2023-01-31 22:52:40.122] [board_logger] [info] incoming json: {\n",
      "    \"board_id\": 23,\n",
      "    \"file\": \"\",\n",
      "    \"file_anc\": \"\",\n",
      "    \"file_aux\": \"\",\n",
      "    \"ip_address\": \"\",\n",
      "    \"ip_address_anc\": \"\",\n",
      "    \"ip_address_aux\": \"\",\n",
      "    \"ip_port\": 0,\n",
      "    \"ip_port_anc\": 0,\n",
      "    \"ip_port_aux\": 0,\n",
      "    \"ip_protocol\": 0,\n",
      "    \"mac_address\": \"C0:EE:40:84:DD:56\",\n",
      "    \"master_board\": -100,\n",
      "    \"other_info\": \"\",\n",
      "    \"serial_number\": \"58a99b0107e64cd40ea5e6607882cbe2\",\n",
      "    \"serial_port\": \"\",\n",
      "    \"timeout\": 5\n",
      "}\n",
      "[2023-01-31 22:52:40.122] [board_logger] [trace] Board object created 23\n",
      "[2023-01-31 22:52:40.122] [board_logger] [debug] Use IP port 9000\n"
     ]
    }
   ],
   "source": [
    "board_id = BoardIds.CROWN_BOARD.value\n",
    "# board_id = BoardIds.SYNTHETIC_BOARD.value\n",
    "params = BrainFlowInputParams()\n",
    "params.mac_address = \"C0:EE:40:84:DD:56\"\n",
    "params.serial_number = \"58a99b0107e64cd40ea5e6607882cbe2\"\n",
    "params.board_id = board_id\n",
    "params.timeout = 5\n",
    "BoardShim.enable_dev_board_logger()\n",
    "board = BoardShim(board_id, params)\n",
    "board.prepare_session()"
   ]
  },
  {
   "cell_type": "code",
   "execution_count": 3,
   "metadata": {},
   "outputs": [],
   "source": [
    "sdl2.SDL_Init(sdl2.SDL_INIT_JOYSTICK)\n",
    "joystick = sdl2.SDL_JoystickOpen(0)\n",
    "\n",
    "def get_direction():\n",
    "        sdl2.SDL_PumpEvents()\n",
    "        # depending on the gamepad this gives you a value between -32768 and +32768\n",
    "        # or between 0 and 32768\n",
    "        x = sdl2.SDL_JoystickGetAxis(joystick, 0)\n",
    "        y = sdl2.SDL_JoystickGetAxis(joystick, 1)\n",
    "        # x_direction = \"right\" if joy_x / 32768 > 0.3 else \"left\" if joy_x / 32768 < -0.1 else \"center\" # WARNING: A bit offset because of drift, should be 0.2 and -0.2 for the deadzone\n",
    "        # print(f\"X: {joy_x} Y: {joy_y} Direction: {x_direction}                    \", end=\"\\r\")\n",
    "\n",
    "        return x, y"
   ]
  },
  {
   "cell_type": "code",
   "execution_count": 4,
   "metadata": {},
   "outputs": [],
   "source": [
    "def update_series(data):\n",
    "    for i, channel in enumerate(data):\n",
    "        dpg.set_value(f'c{i}', [np.arange(0, len(channel)), channel])\n",
    "        dpg.fit_axis_data(f'y_axis_c{i}')\n",
    "\n",
    "def update_direction(x, y, direction):\n",
    "    dpg.set_value(\"direction_text\", f\"X: {x} Y: {y} Direction: {direction}\")"
   ]
  },
  {
   "cell_type": "code",
   "execution_count": 5,
   "metadata": {},
   "outputs": [],
   "source": [
    "signal_length = 256 * 5"
   ]
  },
  {
   "cell_type": "code",
   "execution_count": 6,
   "metadata": {},
   "outputs": [],
   "source": [
    "dpg.create_context()\n",
    "dpg.create_viewport(title=\"Recording Data\", width=600, height=800)\n",
    "dpg.setup_dearpygui()\n",
    "\n",
    "with dpg.window(label=\"Recording Data\", tag=\"Primary Window\"):\n",
    "    for i in range(8):\n",
    "        with dpg.plot(height=75, width=-1, no_menus=True, no_mouse_pos=True):\n",
    "            dpg.add_plot_axis(dpg.mvXAxis, tag=f\"x_axis_c{i}\", no_gridlines=True, no_tick_marks=True, no_tick_labels=True)\n",
    "            dpg.add_plot_axis(dpg.mvYAxis, tag=f\"y_axis_c{i}\", no_gridlines=True, no_tick_marks=True, no_tick_labels=True)\n",
    "            \n",
    "            dpg.add_line_series(np.arange(0, signal_length // 2), np.zeros((signal_length // 2)), label=\"mV\", parent=f\"y_axis_c{i}\", tag=f\"c{i}\")\n",
    "            dpg.set_axis_limits(f'x_axis_c{i}', 0, signal_length // 2)\n",
    "            dpg.fit_axis_data(f'y_axis_c{i}')\n",
    "    dpg.add_text(\"X: None Y: None Direction: None\", tag=\"direction_text\")\n",
    "\n",
    "dpg.set_primary_window(\"Primary Window\", True)"
   ]
  },
  {
   "cell_type": "code",
   "execution_count": 7,
   "metadata": {},
   "outputs": [],
   "source": [
    "train_test = input(\"Train or Test? \").lower()\n",
    "\n",
    "text_keys = {\"10000\": \"center\", \"01000\": \"up\", \"00100\": \"right\", \"00010\": \"down\", \"00001\": \"left\", \"01100\": \"up-right\", \"00110\": \"down-right\", \"00011\": \"down-left\", \"01001\": \"up-left\"}\n",
    "\n",
    "raw_data = np.zeros((8, signal_length + 512), dtype=np.float64)\n",
    "\n",
    "start_time = time.time()\n",
    "inputs = np.empty((8,0))\n",
    "outputs = []\n",
    "BoardShim.disable_board_logger()\n",
    "board.start_stream()\n",
    "time.sleep(1)\n",
    "dpg.show_viewport()\n",
    "while(start_time + 60 > time.time()):\n",
    "    x, y = get_direction()\n",
    "    x_d = 2 if x / 32768 > 0.2 else 1 if x / 32768 < -0.2 else 0\n",
    "    y_d = 2 if y / 32768 < -0.2 else 1 if y / 32768 > 0.2 else 0\n",
    "    direction = [\n",
    "        1 if x_d == 0 and y_d == 0 else 0,\n",
    "        1 if y_d == 2 else 0,\n",
    "        1 if x_d == 2 else 0,\n",
    "        1 if y_d == 1 else 0,\n",
    "        1 if x_d == 1 else 0,\n",
    "    ]\n",
    "    data = board.get_board_data()[1:9]\n",
    "    inputs = np.concatenate((inputs, data), axis=1)\n",
    "    for i in range(data.shape[1]):\n",
    "        outputs.append(direction)\n",
    "    text_direction = text_keys[f\"{direction[0]}{direction[1]}{direction[2]}{direction[3]}{direction[4]}\"]\n",
    "    update_direction(x, y, text_direction)\n",
    "    time.sleep(0.05)\n",
    "    \n",
    "    if data.shape[1] != 0:\n",
    "        data_len = data.shape[1]\n",
    "        raw_data = np.roll(raw_data, -data_len, axis=1)\n",
    "        raw_data[:, -data_len if data_len < signal_length else signal_length:] = data[:, -signal_length:]\n",
    "        \n",
    "        \n",
    "        gui_data = np.empty((8, raw_data.shape[1]//2))\n",
    "        \n",
    "        for i in range(gui_data.shape[0]):\n",
    "            gui_data[i] = DataFilter.perform_downsampling(raw_data[i], 2, AggOperations.MEAN.value)\n",
    "            DataFilter.perform_bandpass(gui_data[i], 256//2, 1.0, 50.0, 4, FilterTypes.BUTTERWORTH.value, 0)\n",
    "            DataFilter.remove_environmental_noise(gui_data[i], 256//2, NoiseTypes.SIXTY.value)\n",
    "            # for hz in range(60, 121, 60):\n",
    "            #     b, a = signal.iirnotch(hz, 10, 128)\n",
    "            #     gui_data[i] = signal.filtfilt(b, a, gui_data[i]) # Americas wires run at 60Hz; Because wires run at 60Hz, there is a 120Hz harmonic\n",
    "        \n",
    "        update_series(gui_data[:, 256:])\n",
    "    dpg.render_dearpygui_frame()\n",
    "\n",
    "outputs = np.array(outputs)    \n",
    "board.stop_stream()\n",
    "dpg.destroy_context()"
   ]
  },
  {
   "cell_type": "code",
   "execution_count": 9,
   "metadata": {},
   "outputs": [
    {
     "name": "stderr",
     "output_type": "stream",
     "text": [
      "/tmp/ipykernel_133345/3853576982.py:4: VisibleDeprecationWarning: Creating an ndarray from ragged nested sequences (which is a list-or-tuple of lists-or-tuples-or ndarrays with different lengths or shapes) is deprecated. If you meant to do this, you must specify 'dtype=object' when creating the ndarray.\n",
      "  dataset = np.array([inputs, outputs])\n"
     ]
    },
    {
     "ename": "",
     "evalue": "",
     "output_type": "error",
     "traceback": [
      "\u001b[1;31mThe Kernel crashed while executing code in the the current cell or a previous cell. Please review the code in the cell(s) to identify a possible cause of the failure. Click <a href='https://aka.ms/vscodeJupyterKernelCrash'>here</a> for more info. View Jupyter <a href='command:jupyter.viewOutput'>log</a> for further details."
     ]
    }
   ],
   "source": [
    "now = datetime.now()\n",
    "dt_string = now.strftime(\"%d:%m:%Y-%H:%M:%S\")\n",
    "\n",
    "dataset = np.array([inputs, outputs])\n",
    "np.save(f\"data/{train_test}/{dt_string}.npy\", dataset)"
   ]
  },
  {
   "cell_type": "code",
   "execution_count": null,
   "metadata": {},
   "outputs": [],
   "source": [
    "board.release_session()"
   ]
  }
 ],
 "metadata": {
  "kernelspec": {
   "display_name": "neuronav",
   "language": "python",
   "name": "python3"
  },
  "language_info": {
   "codemirror_mode": {
    "name": "ipython",
    "version": 3
   },
   "file_extension": ".py",
   "mimetype": "text/x-python",
   "name": "python",
   "nbconvert_exporter": "python",
   "pygments_lexer": "ipython3",
   "version": "3.8.15 (default, Nov 24 2022, 15:19:38) \n[GCC 11.2.0]"
  },
  "orig_nbformat": 4,
  "vscode": {
   "interpreter": {
    "hash": "6d5aef1c97cce0d8b1b8135a3f65fe22a8049f381bd703d7f19d42d052a45954"
   }
  }
 },
 "nbformat": 4,
 "nbformat_minor": 2
}

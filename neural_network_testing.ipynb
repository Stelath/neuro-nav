{
 "cells": [
  {
   "cell_type": "code",
   "execution_count": 1,
   "metadata": {},
   "outputs": [],
   "source": [
    "import numpy as np\n",
    "import pandas as pd\n",
    "import matplotlib.pyplot as plt\n",
    "from tqdm.auto import tqdm\n",
    "from datetime import datetime\n",
    "\n",
    "import torch\n",
    "import torch.nn as nn\n",
    "import torch.nn.functional as F\n",
    "import torch.optim as optim\n",
    "from torch.utils.data import DataLoader\n",
    "from torch.utils.tensorboard import SummaryWriter\n",
    "\n",
    "from bci_dataset import BCIDataset\n",
    "\n",
    "from brainflow.board_shim import BoardShim, BrainFlowInputParams, BoardIds\n",
    "from brainflow.data_filter import DataFilter, FilterTypes, WindowOperations, NoiseTypes\n",
    "\n",
    "from sklearn import metrics\n",
    "\n",
    "from tsai.models.RNN_FCN import MLSTM_FCN\n",
    "from tsai.models.FCN import FCN\n",
    "from tsai.models.FCNPlus import FCNPlus\n",
    "from tsai.models.TCN import TCN\n",
    "\n",
    "from torchvision.models import convnext_small\n",
    "from torchvision.models.convnext import Conv2dNormActivation"
   ]
  },
  {
   "cell_type": "code",
   "execution_count": 2,
   "metadata": {},
   "outputs": [
    {
     "name": "stdout",
     "output_type": "stream",
     "text": [
      "cuda\n"
     ]
    }
   ],
   "source": [
    "device = torch.device('cuda' if torch.cuda.is_available() else 'mps' if torch.backends.mps.is_available() else 'cpu')\n",
    "# device = torch.device('cpu')\n",
    "print(device)"
   ]
  },
  {
   "cell_type": "code",
   "execution_count": 3,
   "metadata": {},
   "outputs": [],
   "source": [
    "train_dataset = BCIDataset('data/train', hz=256, seconds=1, overlap=0.25, one_hot=True)\n",
    "test_dataset = BCIDataset('data/test', hz=256, seconds=1, overlap=0.25, one_hot=True)\n",
    "\n",
    "train_dataloader = DataLoader(train_dataset, batch_size=256, shuffle=True)\n",
    "test_dataloader = DataLoader(test_dataset, batch_size=256, shuffle=True)"
   ]
  },
  {
   "cell_type": "code",
   "execution_count": 14,
   "metadata": {},
   "outputs": [
    {
     "name": "stdout",
     "output_type": "stream",
     "text": [
      "left: 219, center: 281, right: 221\n"
     ]
    }
   ],
   "source": [
    "left = 0\n",
    "center = 0\n",
    "right = 0\n",
    "for batch in train_dataset:\n",
    "    c = torch.argmax(batch['targets'])\n",
    "    if c.item() == 0:\n",
    "        left += 1\n",
    "    elif c.item() == 1:\n",
    "        center += 1\n",
    "    elif c.item() == 2:\n",
    "        right += 1\n",
    "\n",
    "print(f'left: {left}, center: {center}, right: {right}')"
   ]
  },
  {
   "cell_type": "code",
   "execution_count": null,
   "metadata": {},
   "outputs": [],
   "source": [
    "data = train_dataset[30]\n",
    "eeg_data = data['inputs'][1]\n",
    "print(torch.argmax(data['targets']).item())\n",
    "\n",
    "eeg_data_yflip = np.flipud(eeg_data)\n",
    "plt.imshow(eeg_data_yflip, extent=[-1, 1, 1, 256//8], cmap='PRGn', aspect='auto',\n",
    "           vmax=abs(eeg_data).max(), vmin=-abs(eeg_data).max())\n",
    "plt.show()"
   ]
  },
  {
   "cell_type": "code",
   "execution_count": 7,
   "metadata": {},
   "outputs": [
    {
     "ename": "IndexError",
     "evalue": "index 50 is out of bounds for dimension 0 with size 50",
     "output_type": "error",
     "traceback": [
      "\u001b[0;31m---------------------------------------------------------------------------\u001b[0m",
      "\u001b[0;31mIndexError\u001b[0m                                Traceback (most recent call last)",
      "Cell \u001b[0;32mIn[7], line 5\u001b[0m\n\u001b[1;32m      3\u001b[0m temp \u001b[39m=\u001b[39m data[\u001b[39m'\u001b[39m\u001b[39minputs\u001b[39m\u001b[39m'\u001b[39m]\n\u001b[1;32m      4\u001b[0m \u001b[39mfor\u001b[39;00m i \u001b[39min\u001b[39;00m \u001b[39mrange\u001b[39m(\u001b[39m100\u001b[39m):\n\u001b[0;32m----> 5\u001b[0m     eeg_data[:, i\u001b[39m*\u001b[39mtemp[\u001b[39m0\u001b[39m]\u001b[39m.\u001b[39mshape[\u001b[39m1\u001b[39m]:(i\u001b[39m+\u001b[39m\u001b[39m1\u001b[39m)\u001b[39m*\u001b[39mtemp[\u001b[39m0\u001b[39m]\u001b[39m.\u001b[39mshape[\u001b[39m1\u001b[39m]] \u001b[39m=\u001b[39m temp[i]\n\u001b[1;32m      7\u001b[0m \u001b[39mprint\u001b[39m(data[\u001b[39m'\u001b[39m\u001b[39mtargets\u001b[39m\u001b[39m'\u001b[39m])\n\u001b[1;32m      8\u001b[0m \u001b[39mfor\u001b[39;00m i, channel \u001b[39min\u001b[39;00m \u001b[39menumerate\u001b[39m(eeg_data):\n",
      "\u001b[0;31mIndexError\u001b[0m: index 50 is out of bounds for dimension 0 with size 50"
     ]
    }
   ],
   "source": [
    "sample = 50\n",
    "data = train_dataset[0:sample]\n",
    "eeg_data = np.empty((8, sample*data['inputs'][0].shape[1]))\n",
    "temp = data['inputs']\n",
    "for i in range(sample):\n",
    "    eeg_data[:, i*temp[0].shape[1]:(i+1)*temp[0].shape[1]] = temp[i]\n",
    "\n",
    "print(data['targets'])\n",
    "for i, channel in enumerate(eeg_data):\n",
    "    plt.plot(channel, label = f\"C{i+1}\")\n",
    "plt.legend()\n",
    "plt.show()"
   ]
  },
  {
   "cell_type": "code",
   "execution_count": 17,
   "metadata": {},
   "outputs": [],
   "source": [
    "# model = MLSTM_FCN(c_in=8, c_out=3, seq_len=32, se=16)\n",
    "model = FCN(c_in=8, c_out=3)\n",
    "# model = FCNPlus(c_in=8, c_out=3)\n",
    "# model = TCN(c_in=8, c_out=3)\n",
    "\n",
    "# model = convnext_small(num_classes=3, weights=None)\n",
    "# model.features[0][0] = nn.Conv2d(8, 96, kernel_size=(4, 4), stride=(4, 4))\n",
    "\n",
    "model.to(device)\n",
    "\n",
    "optimizer = optim.AdamW(model.parameters(), lr=0.0001)\n",
    "loss_function = nn.SmoothL1Loss()\n",
    "# loss_function = nn.CrossEntropyLoss()"
   ]
  },
  {
   "cell_type": "code",
   "execution_count": 18,
   "metadata": {},
   "outputs": [],
   "source": [
    "def fwd_pass(inputs, targets, train=False):\n",
    "  inputs = inputs.to(device)\n",
    "  targets = targets.to(device)\n",
    "\n",
    "  if train:\n",
    "    model.zero_grad()\n",
    "  \n",
    "  outputs = model(inputs)\n",
    "  matches = [torch.argmax(i) == torch.argmax(j) for i, j in zip(outputs, targets)]\n",
    "  acc = matches.count(True) / len(matches)\n",
    "  \n",
    "  loss = loss_function(outputs, targets)\n",
    "\n",
    "  if train:\n",
    "    loss.backward()\n",
    "    optimizer.step()\n",
    "  \n",
    "  return acc, loss"
   ]
  },
  {
   "cell_type": "code",
   "execution_count": 19,
   "metadata": {},
   "outputs": [
    {
     "data": {
      "application/vnd.jupyter.widget-view+json": {
       "model_id": "d10bcebd2bb4422389e3672c55008f8e",
       "version_major": 2,
       "version_minor": 0
      },
      "text/plain": [
       "  0%|          | 0/200 [00:00<?, ?it/s]"
      ]
     },
     "metadata": {},
     "output_type": "display_data"
    }
   ],
   "source": [
    "now = datetime.now()\n",
    "dt_string = now.strftime(\"%d:%m:%Y-%H:%M:%S\")\n",
    "writer = SummaryWriter(f'runs/BCI_{dt_string}')\n",
    "\n",
    "lowest_loss_epoch = 0\n",
    "lowest_loss = 1000\n",
    "\n",
    "EPOCHS = 200\n",
    "global_step = 0\n",
    "progress_bar = tqdm(total=EPOCHS)\n",
    "for epoch in range(EPOCHS):\n",
    "    # progress_bar = tqdm(total=len(train_dataloader))\n",
    "    progress_bar.set_description(f\"Epoch {epoch + 1}/{EPOCHS}\")\n",
    "    progress_bar.update(1)\n",
    "    \n",
    "    for step, batch in enumerate(train_dataloader):\n",
    "        inputs = batch['inputs']\n",
    "        targets = batch['targets']\n",
    "        \n",
    "        acc, loss = fwd_pass(inputs, targets, train=True)\n",
    "        loss = loss.detach().item()\n",
    "        \n",
    "        # progress_bar.update(1)\n",
    "        logs = {\"loss\": loss, \"accuracy\": acc, \"step\": global_step}\n",
    "        progress_bar.set_postfix(**logs)\n",
    "        \n",
    "        writer.add_scalar('Loss/train', loss, global_step)\n",
    "        writer.add_scalar('Accuracy/train', acc, global_step)\n",
    "        \n",
    "        \n",
    "        global_step += 1\n",
    "        \n",
    "    \n",
    "    test_acc_list = []\n",
    "    test_loss_list = []\n",
    "    for batch in test_dataloader:\n",
    "        inputs = batch['inputs']\n",
    "        targets = batch['targets']\n",
    "        \n",
    "        test_acc, test_loss = fwd_pass(inputs, targets, train=False)\n",
    "        \n",
    "        test_acc_list.append(test_acc)\n",
    "        test_loss_list.append(test_loss.detach().item())\n",
    "    \n",
    "    test_acc = np.mean(test_acc_list)\n",
    "    test_loss = np.mean(test_loss_list)\n",
    "    \n",
    "    if test_loss < lowest_loss:\n",
    "        lowest_loss_epoch = epoch + 1\n",
    "        lowest_loss = test_loss\n",
    "        torch.save(model.state_dict(), f\"models/model_{epoch + 1}.pth\")\n",
    "    \n",
    "    writer.add_scalar('Loss/test', test_loss, global_step)\n",
    "    writer.add_scalar('Accuracy/test', test_acc, global_step)\n",
    "    \n",
    "    if (epoch + 1) % 5 == 0 or epoch + 1 == EPOCHS:\n",
    "        torch.save(model.state_dict(), f\"models/model_{epoch + 1}.pth\")"
   ]
  },
  {
   "cell_type": "code",
   "execution_count": 20,
   "metadata": {},
   "outputs": [
    {
     "data": {
      "text/plain": [
       "<sklearn.metrics._plot.confusion_matrix.ConfusionMatrixDisplay at 0x7f733728f730>"
      ]
     },
     "execution_count": 20,
     "metadata": {},
     "output_type": "execute_result"
    },
    {
     "data": {
      "image/png": "[encoded data removed]",
      "text/plain": [
       "<Figure size 640x480 with 2 Axes>"
      ]
     },
     "metadata": {},
     "output_type": "display_data"
    }
   ],
   "source": [
    "# print(f\"Lowest loss: {lowest_loss_epoch}\")\n",
    "# model.load_state_dict(torch.load(f'models/model_{lowest_loss_epoch}.pth'))\n",
    "model.load_state_dict(torch.load(f'models/model_70.pth'))\n",
    "\n",
    "inputs = test_dataset[:]['inputs'].to(device)\n",
    "targets = test_dataset[:]['targets']\n",
    "\n",
    "with torch.no_grad():\n",
    "    outputs = model(inputs)\n",
    "\n",
    "outputs = torch.argmax(outputs, dim=1).cpu().numpy()\n",
    "targets = torch.argmax(targets, dim=1).cpu().numpy()\n",
    "\n",
    "cm = metrics.confusion_matrix(targets, outputs, normalize='true')\n",
    "disp = metrics.ConfusionMatrixDisplay(confusion_matrix=cm, display_labels=['Left', 'Nothing', 'Right'])\n",
    "disp.plot(cmap=plt.cm.Oranges)"
   ]
  },
  {
   "cell_type": "code",
   "execution_count": null,
   "metadata": {},
   "outputs": [],
   "source": []
  }
 ],
 "metadata": {
  "kernelspec": {
   "display_name": "neuronav",
   "language": "python",
   "name": "python3"
  },
  "language_info": {
   "codemirror_mode": {
    "name": "ipython",
    "version": 3
   },
   "file_extension": ".py",
   "mimetype": "text/x-python",
   "name": "python",
   "nbconvert_exporter": "python",
   "pygments_lexer": "ipython3",
   "version": "3.8.15"
  },
  "vscode": {
   "interpreter": {
    "hash": "6d5aef1c97cce0d8b1b8135a3f65fe22a8049f381bd703d7f19d42d052a45954"
   }
  }
 },
 "nbformat": 4,
 "nbformat_minor": 4
}

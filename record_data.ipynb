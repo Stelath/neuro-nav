{
 "cells": [
  {
   "cell_type": "code",
   "execution_count": 44,
   "metadata": {},
   "outputs": [],
   "source": [
    "import time\n",
    "import math\n",
    "import numpy as np\n",
    "import pandas as pd\n",
    "import matplotlib.pyplot as plt\n",
    "from datetime import datetime\n",
    "\n",
    "from brainflow.board_shim import BoardShim, BrainFlowInputParams, LogLevels, BoardIds\n",
    "from brainflow.data_filter import DataFilter, AggOperations, FilterTypes, WindowOperations, NoiseTypes"
   ]
  },
  {
   "cell_type": "code",
   "execution_count": 45,
   "metadata": {},
   "outputs": [
    {
     "name": "stderr",
     "output_type": "stream",
     "text": [
      "[2023-01-18 23:14:05.269] [board_logger] [info] incoming json: {\n",
      "    \"board_id\": 23,\n",
      "    \"file\": \"\",\n",
      "    \"file_anc\": \"\",\n",
      "    \"file_aux\": \"\",\n",
      "    \"ip_address\": \"\",\n",
      "    \"ip_address_anc\": \"\",\n",
      "    \"ip_address_aux\": \"\",\n",
      "    \"ip_port\": 0,\n",
      "    \"ip_port_anc\": 0,\n",
      "    \"ip_port_aux\": 0,\n",
      "    \"ip_protocol\": 0,\n",
      "    \"mac_address\": \"C0:EE:40:84:DD:56\",\n",
      "    \"master_board\": -100,\n",
      "    \"other_info\": \"\",\n",
      "    \"serial_number\": \"58a99b0107e64cd40ea5e6607882cbe2\",\n",
      "    \"serial_port\": \"\",\n",
      "    \"timeout\": 5\n",
      "}\n",
      "[2023-01-18 23:14:05.269] [board_logger] [trace] Board object created 23\n",
      "[2023-01-18 23:14:05.269] [board_logger] [debug] Use IP port 9000\n"
     ]
    }
   ],
   "source": [
    "board_id = BoardIds.CROWN_BOARD.value\n",
    "params = BrainFlowInputParams()\n",
    "params.mac_address = \"C0:EE:40:84:DD:56\"\n",
    "params.serial_number = \"58a99b0107e64cd40ea5e6607882cbe2\"\n",
    "params.board_id = board_id\n",
    "params.timeout = 5\n",
    "BoardShim.enable_dev_board_logger()\n",
    "board = BoardShim(board_id, params)\n",
    "board.prepare_session()"
   ]
  },
  {
   "cell_type": "code",
   "execution_count": 46,
   "metadata": {},
   "outputs": [
    {
     "name": "stdout",
     "output_type": "stream",
     "text": [
      "Think Nothing\n",
      "Think Left\n",
      "Think Right\n",
      "Think Nothing\n",
      "Think Left\n",
      "Think Right\n",
      "Think Nothing\n",
      "Think Left\n",
      "Think Right\n"
     ]
    }
   ],
   "source": [
    "train_test = input(\"Train or Test? \").lower()\n",
    "\n",
    "inputs = []\n",
    "outputs = []\n",
    "BoardShim.disable_board_logger()\n",
    "board.start_stream()\n",
    "for i in range(3):\n",
    "    print(\"Think Nothing\")\n",
    "    time.sleep(1)\n",
    "    board.get_board_data()\n",
    "    time.sleep(10)\n",
    "    nothing = board.get_board_data()[1:9]\n",
    "    \n",
    "    print(\"Think Left\")\n",
    "    time.sleep(1)\n",
    "    board.get_board_data()\n",
    "    time.sleep(10)\n",
    "    left = board.get_board_data()[1:9]\n",
    "\n",
    "    print(\"Think Right\")\n",
    "    time.sleep(1)\n",
    "    board.get_board_data()\n",
    "    time.sleep(10)\n",
    "    right = board.get_board_data()[1:9]\n",
    "    \n",
    "    inputs.append(nothing)\n",
    "    inputs.append(left)\n",
    "    inputs.append(right)\n",
    "    outputs.append(1)\n",
    "    outputs.append(0)\n",
    "    outputs.append(2)\n",
    "board.stop_stream()"
   ]
  },
  {
   "cell_type": "code",
   "execution_count": 42,
   "metadata": {},
   "outputs": [],
   "source": [
    "now = datetime.now()\n",
    "dt_string = now.strftime(\"%d:%m:%Y-%H:%M:%S\")\n",
    "\n",
    "dataset = np.array([inputs, outputs], dtype=object)\n",
    "np.save(f\"data/{train_test}/{dt_string}.npy\", dataset)"
   ]
  },
  {
   "cell_type": "code",
   "execution_count": 43,
   "metadata": {},
   "outputs": [],
   "source": [
    "board.release_session()"
   ]
  },
  {
   "cell_type": "code",
   "execution_count": null,
   "metadata": {},
   "outputs": [],
   "source": []
  }
 ],
 "metadata": {
  "kernelspec": {
   "display_name": "neuronav",
   "language": "python",
   "name": "python3"
  },
  "language_info": {
   "codemirror_mode": {
    "name": "ipython",
    "version": 3
   },
   "file_extension": ".py",
   "mimetype": "text/x-python",
   "name": "python",
   "nbconvert_exporter": "python",
   "pygments_lexer": "ipython3",
   "version": "3.8.15"
  },
  "orig_nbformat": 4,
  "vscode": {
   "interpreter": {
    "hash": "6d5aef1c97cce0d8b1b8135a3f65fe22a8049f381bd703d7f19d42d052a45954"
   }
  }
 },
 "nbformat": 4,
 "nbformat_minor": 2
}
